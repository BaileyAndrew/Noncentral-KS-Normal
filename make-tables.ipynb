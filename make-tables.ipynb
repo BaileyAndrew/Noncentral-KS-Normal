{
 "cells": [
  {
   "cell_type": "code",
   "execution_count": 1,
   "metadata": {},
   "outputs": [],
   "source": [
    "import pandas as pd"
   ]
  },
  {
   "cell_type": "code",
   "execution_count": 17,
   "metadata": {},
   "outputs": [
    {
     "name": "stderr",
     "output_type": "stream",
     "text": [
      "/var/folders/k0/qy74mdx10qs493700g929k5h0000gn/T/ipykernel_2229/886922218.py:26: FutureWarning: In future versions `DataFrame.to_latex` is expected to utilise the base implementation of `Styler.to_latex` for formatting and rendering. The arguments signature may therefore change. It is recommended instead to use `DataFrame.style.to_latex` which also contains additional functionality.\n",
      "  table.to_latex('synthetic_data_table.tex', escape=False)\n"
     ]
    },
    {
     "data": {
      "text/html": [
       "<div>\n",
       "<style scoped>\n",
       "    .dataframe tbody tr th:only-of-type {\n",
       "        vertical-align: middle;\n",
       "    }\n",
       "\n",
       "    .dataframe tbody tr th {\n",
       "        vertical-align: top;\n",
       "    }\n",
       "\n",
       "    .dataframe thead th {\n",
       "        text-align: right;\n",
       "    }\n",
       "</style>\n",
       "<table border=\"1\" class=\"dataframe\">\n",
       "  <thead>\n",
       "    <tr style=\"text-align: right;\">\n",
       "      <th>Figure</th>\n",
       "      <th>Mean Distribution</th>\n",
       "    </tr>\n",
       "  </thead>\n",
       "  <tbody>\n",
       "    <tr>\n",
       "      <th>Figure ??</th>\n",
       "      <td>Constant mean of 1</td>\n",
       "    </tr>\n",
       "    <tr>\n",
       "      <th>Figure ??</th>\n",
       "      <td>$m + \\bigoplus_\\ell \\boldsymbol{\\mu}_\\ell$, $\\...</td>\n",
       "    </tr>\n",
       "    <tr>\n",
       "      <th>Figure ??</th>\n",
       "      <td>$\\mathcal{N}(\\mathbf{0}, \\frac{1}{20}\\mathbf{I})$</td>\n",
       "    </tr>\n",
       "    <tr>\n",
       "      <th>Figure ??</th>\n",
       "      <td>$\\frac{\\boldsymbol{\\omega}}{14}, \\boldsymbol{\\...</td>\n",
       "    </tr>\n",
       "  </tbody>\n",
       "</table>\n",
       "</div>"
      ],
      "text/plain": [
       "Figure                                     Mean Distribution\n",
       "Figure ??                                 Constant mean of 1\n",
       "Figure ??  $m + \\bigoplus_\\ell \\boldsymbol{\\mu}_\\ell$, $\\...\n",
       "Figure ??  $\\mathcal{N}(\\mathbf{0}, \\frac{1}{20}\\mathbf{I})$\n",
       "Figure ??  $\\frac{\\boldsymbol{\\omega}}{14}, \\boldsymbol{\\..."
      ]
     },
     "execution_count": 17,
     "metadata": {},
     "output_type": "execute_result"
    }
   ],
   "source": [
    "table = pd.DataFrame(\n",
    "    {\n",
    "        'Mean Distribution': [\n",
    "            \"Constant mean of 1\",\n",
    "            (\n",
    "                r\"$m + \\bigoplus_\\ell \\boldsymbol{\\mu}_\\ell$, \"\n",
    "                + r\"$\\boldsymbol{\\mu}_\\ell \\sim \\mathcal{N}(\\mathbf{0}, \\mathbf{I}), \"\n",
    "                + r\"m \\sim \\mathcal{N}(0, 1)$\"\n",
    "            ),\n",
    "            r\"$\\mathcal{N}(\\mathbf{0}, \\frac{1}{20}\\mathbf{I})$\",\n",
    "            r\"$\\frac{\\boldsymbol{\\omega}}{14}, \"\n",
    "            + r\"\\boldsymbol{\\omega}_{ij} \\sim \\mathrm{Poisson}(10)$\"\n",
    "        ],\n",
    "        # 'Notes': [\n",
    "        #     \"\",\n",
    "        #     \"\",\n",
    "        #     \"Smaller variance to prevent signal being overwhelmed by noise\",\n",
    "        #     \"Smaller variance to prevent signal being overwhelmed by noise\"\n",
    "        # ],\n",
    "    },\n",
    "    # Change the ?? once putting into Latex\n",
    "    index=[\"Figure ??\" for _ in range(4)]\n",
    ")\n",
    "table.columns.name = \"Figure\"\n",
    "with pd.option_context(\"max_colwidth\", 1000):\n",
    "    table.to_latex('synthetic_data_table.tex', escape=False)\n",
    "table"
   ]
  }
 ],
 "metadata": {
  "kernelspec": {
   "display_name": "cnr-colab",
   "language": "python",
   "name": "python3"
  },
  "language_info": {
   "codemirror_mode": {
    "name": "ipython",
    "version": 3
   },
   "file_extension": ".py",
   "mimetype": "text/x-python",
   "name": "python",
   "nbconvert_exporter": "python",
   "pygments_lexer": "ipython3",
   "version": "3.9.18"
  }
 },
 "nbformat": 4,
 "nbformat_minor": 2
}
