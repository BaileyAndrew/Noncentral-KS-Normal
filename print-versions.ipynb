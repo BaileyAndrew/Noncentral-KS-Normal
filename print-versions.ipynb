{
 "cells": [
  {
   "cell_type": "code",
   "execution_count": 1,
   "metadata": {},
   "outputs": [],
   "source": [
    "import numpy as np\n",
    "import matplotlib\n",
    "import scipy\n",
    "import GmGM\n",
    "import sys"
   ]
  },
  {
   "cell_type": "markdown",
   "metadata": {},
   "source": [
    "# Packages used directly in our algorithm"
   ]
  },
  {
   "cell_type": "code",
   "execution_count": 4,
   "metadata": {},
   "outputs": [
    {
     "name": "stdout",
     "output_type": "stream",
     "text": [
      "Numpy Version: 1.25.2\n",
      "Scipy Version: 1.12.0\n",
      "GmGM Version: 0.5.3\n",
      "Python Version: 3.9.18 | packaged by conda-forge | (main, Aug 30 2023, 03:53:08) \n",
      "[Clang 15.0.7 ]\n"
     ]
    }
   ],
   "source": [
    "print(f\"Numpy Version: {np.__version__}\")\n",
    "print(f\"Scipy Version: {scipy.__version__}\")\n",
    "print(f\"GmGM Version: {GmGM.__version__}\")\n",
    "print(f\"Python Version: {sys.version}\")"
   ]
  },
  {
   "cell_type": "markdown",
   "metadata": {},
   "source": [
    "# Packages used in our tests"
   ]
  },
  {
   "cell_type": "code",
   "execution_count": 3,
   "metadata": {},
   "outputs": [],
   "source": [
    "import igraph as ig\n",
    "import matplotlib.pyplot as plt\n",
    "import pandas as pd\n",
    "import BiGLasso_Methods as bg"
   ]
  },
  {
   "cell_type": "code",
   "execution_count": 5,
   "metadata": {},
   "outputs": [
    {
     "name": "stdout",
     "output_type": "stream",
     "text": [
      "igraph Version: 0.11.3\n",
      "Matplotlib Version: 3.8.0\n",
      "Pandas Version: 1.5.3\n",
      "BiGLasso_Methods Version: 1.0.0\n"
     ]
    }
   ],
   "source": [
    "print(f\"igraph Version: {ig.__version__}\")\n",
    "print(f\"Matplotlib Version: {matplotlib.__version__}\")\n",
    "print(f\"Pandas Version: {pd.__version__}\")\n",
    "print(f\"BiGLasso_Methods Version: {bg.__version__}\")"
   ]
  }
 ],
 "metadata": {
  "kernelspec": {
   "display_name": "cnr-colab",
   "language": "python",
   "name": "python3"
  },
  "language_info": {
   "codemirror_mode": {
    "name": "ipython",
    "version": 3
   },
   "file_extension": ".py",
   "mimetype": "text/x-python",
   "name": "python",
   "nbconvert_exporter": "python",
   "pygments_lexer": "ipython3",
   "version": "3.9.18"
  }
 },
 "nbformat": 4,
 "nbformat_minor": 2
}
