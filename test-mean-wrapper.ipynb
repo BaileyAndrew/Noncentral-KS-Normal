{
 "cells": [
  {
   "cell_type": "code",
   "execution_count": 313,
   "metadata": {},
   "outputs": [],
   "source": [
    "import numpy as np\n",
    "import scipy.stats as stats\n",
    "import mean_wrapper as mw\n",
    "from GmGM import Dataset, GmGM"
   ]
  },
  {
   "cell_type": "code",
   "execution_count": 314,
   "metadata": {},
   "outputs": [
    {
     "data": {
      "text/plain": [
       "array([[-59.41826235, -57.79358728, -58.27086317, ...,  38.42265286,\n",
       "         39.01341914,  40.97583882],\n",
       "       [-59.47035279, -58.9253894 , -58.0594765 , ...,  36.174564  ,\n",
       "         41.04321186,  39.4609283 ],\n",
       "       [-60.31361482, -58.60932466, -56.01347907, ...,  37.15885879,\n",
       "         34.24271625,  38.95957979],\n",
       "       ...,\n",
       "       [-59.96653271, -56.89025871, -53.43715324, ...,  37.70747188,\n",
       "         36.16821051,  29.3732596 ],\n",
       "       [-60.15534426, -58.48743617, -57.57112255, ...,  36.11743618,\n",
       "         38.90546436,  39.7900084 ],\n",
       "       [-59.75016642, -58.69930887, -57.11622452, ...,  34.21847019,\n",
       "         41.54752031,  38.13697547]])"
      ]
     },
     "execution_count": 314,
     "metadata": {},
     "output_type": "execute_result"
    }
   ],
   "source": [
    "# Test dataset\n",
    "ds = [100, 100]\n",
    "data = np.random.normal(size=ds, scale=1)\n",
    "\n",
    "# Derived parameters\n",
    "L = len(ds)\n",
    "d_slashes = [np.prod(ds[:ell] + ds[ell + 1:]) for ell in range(L)]\n",
    "\n",
    "# Fixed parameters\n",
    "# Covs = {\n",
    "#     f'Axis {ell}': 10 * np.ones((ds[ell], ds[ell])) / ds[ell] + np.eye(ds[ell])\n",
    "#     for ell in range(L)\n",
    "# }\n",
    "# Chose df=2d_ell to make the covariance matrix \"sufficiently invertible\"\n",
    "# and divided by df because Wishart gets upscaled by df, want to counteract.\n",
    "Covs = {\n",
    "    f'Axis {ell}': stats.wishart.rvs(\n",
    "        df=ds[ell] * 2,\n",
    "        scale=np.ones((ds[ell], ds[ell])) / 1.1 + np.eye(ds[ell])\n",
    "    ) / (2 * ds[ell])\n",
    "    for ell in range(L)\n",
    "}\n",
    "# Covs = {\n",
    "#     f'Axis {ell}': np.eye(ds[ell])\n",
    "#     for ell in range(L)\n",
    "# }\n",
    "Psis = {\n",
    "    axis: np.linalg.inv(Covs[axis])\n",
    "    for axis in Covs\n",
    "}\n",
    "\n",
    "# Transform data to have certain dependencies\n",
    "for ell in range(L):\n",
    "    data = np.moveaxis(\n",
    "        np.moveaxis(\n",
    "            data,\n",
    "            ell, -1\n",
    "        ) @ np.linalg.inv(np.linalg.cholesky(Covs[f'Axis {ell}']).T),\n",
    "        -1, ell\n",
    "    )\n",
    "\n",
    "# Add mean offsets to data\n",
    "data += np.arange(ds[-1])\n",
    "data -= 10 + data.mean()\n",
    "\n",
    "# Parameters to estimate, give it good initial guesses\n",
    "means_init = [(data - data.mean()).mean(axis=tuple([j for j in range(L) if j != ell])) for ell in range(L)]\n",
    "full_mean_init = data.mean()\n",
    "means = {f'Axis {i}': _.copy() for i, _ in enumerate(means_init)}\n",
    "full_mean = full_mean_init\n",
    "data"
   ]
  },
  {
   "cell_type": "code",
   "execution_count": 315,
   "metadata": {},
   "outputs": [],
   "source": [
    "def null_estimator(data):\n",
    "    return Psis\n",
    "\n",
    "def gmgm_estimator(data):\n",
    "    output = GmGM(\n",
    "        data,\n",
    "        to_keep=0.5,\n",
    "        random_state=0,\n",
    "        batch_size=1000,\n",
    "        verbose=False,\n",
    "        n_comps=50,\n",
    "        threshold_method='statistical-significance',\n",
    "        readonly=True\n",
    "    )\n",
    "    return output.precision_matrices\n",
    "        \n",
    "\n",
    "NKS = mw.NoncentralKS(gmgm_estimator, (means, full_mean), Psis)"
   ]
  },
  {
   "cell_type": "code",
   "execution_count": 316,
   "metadata": {},
   "outputs": [
    {
     "data": {
      "text/plain": [
       "Dataset(\n",
       "\tdata: ('Axis 0', 'Axis 1')\n",
       ")\n",
       "Axes(\n",
       "\tAxis 0: 100\n",
       "\t\tPrior: None\n",
       "\t\tGram: Not calculated\n",
       "\t\tEig: Not calculated\n",
       "\tAxis 1: 100\n",
       "\t\tPrior: None\n",
       "\t\tGram: Not calculated\n",
       "\t\tEig: Not calculated\n",
       ")"
      ]
     },
     "execution_count": 316,
     "metadata": {},
     "output_type": "execute_result"
    }
   ],
   "source": [
    "dataset = Dataset(\n",
    "    dataset={'data': data},\n",
    "    structure={'data': tuple([f'Axis {i}' for i in range(L)])},\n",
    ")\n",
    "dataset"
   ]
  },
  {
   "cell_type": "code",
   "execution_count": 317,
   "metadata": {},
   "outputs": [
    {
     "name": "stdout",
     "output_type": "stream",
     "text": [
      "Iteration: 1 (Change: 36.75808332319635)\n",
      "Iteration: 2 (Change: 0.502480285741767)\n",
      "Iteration: 3 (Change: 0.008695968482999049)\n",
      "Iteration: 4 (Change: 0.0001177014000971781)\n",
      "Converged in 5 iterations\n",
      "Iteration: 5 (Change: 2.583334843653122e-05)\n",
      "-10.000024646408352 [-49.51075036 -48.52810066 -47.43998385 -46.53401782 -45.3225614\n",
      " -44.43136768 -43.39835753 -42.54916851 -41.670686   -40.25599695\n",
      " -39.28766817 -38.41115715 -37.62853957 -36.50068327 -35.57445114\n",
      " -34.503688   -33.76714935 -32.46075297 -31.66462838 -30.68058803\n",
      " -29.43097779 -28.28151837 -27.54196972 -26.39830193 -25.30266681\n",
      " -24.64024843 -23.67630196 -22.78259296 -21.37358717 -20.24137553\n",
      " -19.4025297  -18.56169822 -17.39427742 -16.56260075 -15.62114587\n",
      " -14.65243404 -13.48464052 -12.30093937 -11.54999109 -10.43461604\n",
      "  -9.36521567  -8.37040171  -7.7742786   -6.50235815  -5.27691332\n",
      "  -4.65177845  -3.37587161  -2.35280725  -1.44889238  -0.47209707\n",
      "   0.55444706   1.24921638   2.98568436   3.83848912   4.53045697\n",
      "   5.28588981   6.25866975   7.36929237   8.8391212    9.37567252\n",
      "  10.47179923  11.57278012  12.38026128  13.56921413  14.41480364\n",
      "  15.40846305  16.37909416  17.76906511  18.27472038  19.62567372\n",
      "  20.63389153  21.38315289  22.51984971  23.35058386  24.46368068\n",
      "  25.49713396  26.33236372  27.55590792  28.72597884  29.91057508\n",
      "  30.64064171  31.57360711  32.44533032  33.41522281  34.56660857\n",
      "  35.458324    36.57371484  37.3151413   38.85972161  39.32979475\n",
      "  40.2613112   41.51713458  42.40205805  42.89948711  44.6157986\n",
      "  45.21531497  46.27340272  47.5814877   48.33084264  49.54444752]\n"
     ]
    }
   ],
   "source": [
    "a, b = NKS.fit(dataset, verbose=True)\n",
    "print(a[1], a[0]['Axis 1'])"
   ]
  },
  {
   "cell_type": "code",
   "execution_count": 318,
   "metadata": {},
   "outputs": [
    {
     "data": {
      "text/plain": [
       "0.8207617950439453"
      ]
     },
     "execution_count": 318,
     "metadata": {},
     "output_type": "execute_result"
    }
   ],
   "source": [
    "(b['Axis 0'].toarray().diagonal().sum() * ds[0] + ds[1] * b['Axis 1'].toarray().diagonal().sum()) / (ds[0] * ds[1])"
   ]
  },
  {
   "cell_type": "code",
   "execution_count": 319,
   "metadata": {},
   "outputs": [
    {
     "data": {
      "text/plain": [
       "array([[0.1873    , 0.09501915, 0.10362364, ..., 0.04516349, 0.01806848,\n",
       "        0.01211174],\n",
       "       [0.09501915, 0.29144   , 0.01464269, ..., 0.03406863, 0.01119631,\n",
       "        0.03076433],\n",
       "       [0.10362364, 0.01464269, 0.23606384, ..., 0.06947554, 0.0131749 ,\n",
       "        0.02226917],\n",
       "       ...,\n",
       "       [0.04516349, 0.03406863, 0.06947554, ..., 0.46768895, 0.01402486,\n",
       "        0.0165386 ],\n",
       "       [0.01806848, 0.01119631, 0.0131749 , ..., 0.01402486, 0.52952176,\n",
       "        0.03224508],\n",
       "       [0.01211174, 0.03076433, 0.02226917, ..., 0.0165386 , 0.03224508,\n",
       "        0.5324196 ]], dtype=float32)"
      ]
     },
     "execution_count": 319,
     "metadata": {},
     "output_type": "execute_result"
    }
   ],
   "source": [
    "b['Axis 1'].toarray()"
   ]
  },
  {
   "cell_type": "code",
   "execution_count": 320,
   "metadata": {},
   "outputs": [
    {
     "data": {
      "text/plain": [
       "array([[ 2.30184936e+00, -7.73840634e-02, -1.66836604e-01, ...,\n",
       "         1.73989710e-01,  1.77917233e-01, -2.39465835e-01],\n",
       "       [-7.73840634e-02,  1.82995773e+00, -8.26740002e-03, ...,\n",
       "        -8.85227677e-02,  4.70354092e-02, -1.24658370e-01],\n",
       "       [-1.66836604e-01, -8.26740002e-03,  2.03422258e+00, ...,\n",
       "        -3.70255706e-01, -2.02809472e-01,  7.43807052e-02],\n",
       "       ...,\n",
       "       [ 1.73989710e-01, -8.85227677e-02, -3.70255706e-01, ...,\n",
       "         1.91799648e+00,  1.09758503e-03,  1.44581913e-01],\n",
       "       [ 1.77917233e-01,  4.70354092e-02, -2.02809472e-01, ...,\n",
       "         1.09758503e-03,  2.04003367e+00,  1.14778046e-01],\n",
       "       [-2.39465835e-01, -1.24658370e-01,  7.43807052e-02, ...,\n",
       "         1.44581913e-01,  1.14778046e-01,  2.07144467e+00]])"
      ]
     },
     "execution_count": 320,
     "metadata": {},
     "output_type": "execute_result"
    }
   ],
   "source": [
    "Psis['Axis 1']"
   ]
  }
 ],
 "metadata": {
  "kernelspec": {
   "display_name": "Python 3",
   "language": "python",
   "name": "python3"
  },
  "language_info": {
   "codemirror_mode": {
    "name": "ipython",
    "version": 3
   },
   "file_extension": ".py",
   "mimetype": "text/x-python",
   "name": "python",
   "nbconvert_exporter": "python",
   "pygments_lexer": "ipython3",
   "version": "3.9.15"
  }
 },
 "nbformat": 4,
 "nbformat_minor": 2
}
