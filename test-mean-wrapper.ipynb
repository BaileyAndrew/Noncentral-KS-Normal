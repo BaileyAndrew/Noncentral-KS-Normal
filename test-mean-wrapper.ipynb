{
 "cells": [
  {
   "cell_type": "code",
   "execution_count": 6,
   "metadata": {},
   "outputs": [],
   "source": [
    "import numpy as np\n",
    "import scipy.stats as stats\n",
    "import mean_wrapper as mw\n",
    "from GmGM import Dataset"
   ]
  },
  {
   "cell_type": "code",
   "execution_count": 7,
   "metadata": {},
   "outputs": [
    {
     "data": {
      "text/plain": [
       "array([[[-21.5, -20.5],\n",
       "        [-19.5, -18.5],\n",
       "        [-17.5, -16.5]],\n",
       "\n",
       "       [[-15.5, -14.5],\n",
       "        [-13.5, -12.5],\n",
       "        [-11.5, -10.5]],\n",
       "\n",
       "       [[ -9.5,  -8.5],\n",
       "        [ -7.5,  -6.5],\n",
       "        [ -5.5,  -4.5]],\n",
       "\n",
       "       [[ -3.5,  -2.5],\n",
       "        [ -1.5,  -0.5],\n",
       "        [  0.5,   1.5]]])"
      ]
     },
     "execution_count": 7,
     "metadata": {},
     "output_type": "execute_result"
    }
   ],
   "source": [
    "# Test dataset\n",
    "ds = [4, 3, 2]\n",
    "data = np.arange(np.prod(ds)).reshape(ds).astype(float)\n",
    "data -= data.mean() + 10\n",
    "#data = np.random.normal(size=ds)\n",
    "#data -= 10\n",
    "#data += 5 * np.arange(ds[-1])\n",
    "\n",
    "# Derived parameters\n",
    "L = len(ds)\n",
    "d_slashes = [np.prod(ds[:ell] + ds[ell + 1:]) for ell in range(L)]\n",
    "\n",
    "# Fixed parameters\n",
    "# Psis = {\n",
    "#     f'Axis {ell}': 0 * np.ones((ds[ell], ds[ell])) / ds[ell] + np.eye(ds[ell])\n",
    "#     for ell in range(L)\n",
    "# }\n",
    "Psis = {\n",
    "    f'Axis {ell}': stats.wishart.rvs(\n",
    "        df=ds[ell],\n",
    "        scale=np.ones((ds[ell], ds[ell])) / 1.1 + np.eye(ds[ell])\n",
    "    )\n",
    "    for ell in range(L)\n",
    "}\n",
    "\n",
    "# Parameters to estimate, give it good initial guesses\n",
    "means_init = [(data - data.mean()).mean(axis=tuple([j for j in range(L) if j != ell])) for ell in range(L)]\n",
    "full_mean_init = data.mean()\n",
    "means = {f'Axis {i}': _.copy() for i, _ in enumerate(means_init)}\n",
    "full_mean = full_mean_init\n",
    "data"
   ]
  },
  {
   "cell_type": "code",
   "execution_count": 8,
   "metadata": {},
   "outputs": [],
   "source": [
    "def estimator(data):\n",
    "    return Psis\n",
    "\n",
    "NKS = mw.NoncentralKS(estimator, (means, full_mean), Psis)"
   ]
  },
  {
   "cell_type": "code",
   "execution_count": 9,
   "metadata": {},
   "outputs": [
    {
     "data": {
      "text/plain": [
       "Dataset(\n",
       "\tdata: ('Axis 0', 'Axis 1', 'Axis 2')\n",
       ")\n",
       "Axes(\n",
       "\tAxis 2: 2\n",
       "\t\tPrior: None\n",
       "\t\tGram: Not calculated\n",
       "\t\tEig: Not calculated\n",
       "\tAxis 0: 4\n",
       "\t\tPrior: None\n",
       "\t\tGram: Not calculated\n",
       "\t\tEig: Not calculated\n",
       "\tAxis 1: 3\n",
       "\t\tPrior: None\n",
       "\t\tGram: Not calculated\n",
       "\t\tEig: Not calculated\n",
       ")"
      ]
     },
     "execution_count": 9,
     "metadata": {},
     "output_type": "execute_result"
    }
   ],
   "source": [
    "dataset = Dataset(\n",
    "    dataset={'data': data},\n",
    "    structure={'data': tuple([f'Axis {i}' for i in range(L)])},\n",
    ")\n",
    "dataset"
   ]
  },
  {
   "cell_type": "code",
   "execution_count": 10,
   "metadata": {},
   "outputs": [
    {
     "data": {
      "text/plain": [
       "(({'Axis 0': array([-9., -3.,  3.,  9.]),\n",
       "   'Axis 1': array([-2.00000000e+00,  2.66453526e-15,  2.00000000e+00]),\n",
       "   'Axis 2': array([-0.5,  0.5])},\n",
       "  -10.0),\n",
       " {'Axis 0': array([[ 1.42149502,  2.10619886,  0.47247159,  2.37656316],\n",
       "         [ 2.10619886,  6.64189466,  3.95781846,  7.56378769],\n",
       "         [ 0.47247159,  3.95781846,  5.82515644,  8.17484838],\n",
       "         [ 2.37656316,  7.56378769,  8.17484838, 15.35628867]]),\n",
       "  'Axis 1': array([[0.85418576, 0.35540206, 0.42655192],\n",
       "         [0.35540206, 2.02058489, 2.25828062],\n",
       "         [0.42655192, 2.25828062, 2.67279143]]),\n",
       "  'Axis 2': array([[2.06190564, 0.18812029],\n",
       "         [0.18812029, 1.37777927]])})"
      ]
     },
     "execution_count": 10,
     "metadata": {},
     "output_type": "execute_result"
    }
   ],
   "source": [
    "NKS.fit(dataset)"
   ]
  }
 ],
 "metadata": {
  "kernelspec": {
   "display_name": "Python 3",
   "language": "python",
   "name": "python3"
  },
  "language_info": {
   "codemirror_mode": {
    "name": "ipython",
    "version": 3
   },
   "file_extension": ".py",
   "mimetype": "text/x-python",
   "name": "python",
   "nbconvert_exporter": "python",
   "pygments_lexer": "ipython3",
   "version": "3.9.15"
  }
 },
 "nbformat": 4,
 "nbformat_minor": 2
}
