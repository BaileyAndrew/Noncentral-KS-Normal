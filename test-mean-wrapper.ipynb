{
 "cells": [
  {
   "cell_type": "code",
   "execution_count": 1,
   "metadata": {},
   "outputs": [],
   "source": [
    "import numpy as np\n",
    "import scipy.stats as stats\n",
    "import mean_wrapper as mw\n",
    "from GmGM import Dataset, GmGM"
   ]
  },
  {
   "cell_type": "code",
   "execution_count": 2,
   "metadata": {},
   "outputs": [
    {
     "data": {
      "text/plain": [
       "array([[-58.65324695, -58.8786048 , -57.45131409, ...,  36.67527566,\n",
       "         35.92263661,  38.23170968],\n",
       "       [-57.60140253, -60.49758969, -55.90592984, ...,  37.86799517,\n",
       "         37.87879526,  40.55281186],\n",
       "       [-58.59807607, -58.36343558, -57.24132604, ...,  38.33453366,\n",
       "         38.58483794,  42.43846071],\n",
       "       ...,\n",
       "       [-61.94421016, -57.68349066, -57.73913815, ...,  38.84343661,\n",
       "         39.58780226,  40.53957398],\n",
       "       [-58.7840125 , -58.09439295, -56.64092186, ...,  37.24521965,\n",
       "         38.42705689,  38.64528061],\n",
       "       [-57.56114089, -56.86855379, -56.74806664, ...,  37.45919375,\n",
       "         38.60477659,  39.1750386 ]])"
      ]
     },
     "execution_count": 2,
     "metadata": {},
     "output_type": "execute_result"
    }
   ],
   "source": [
    "# Test dataset\n",
    "ds = [100, 100]\n",
    "#data = np.arange(np.prod(ds)).reshape(ds).astype(float)\n",
    "#data -= data.mean() + 10\n",
    "data = np.random.normal(size=ds)\n",
    "data += np.arange(ds[-1])\n",
    "data -= 10 + data.mean()\n",
    "\n",
    "# Derived parameters\n",
    "L = len(ds)\n",
    "d_slashes = [np.prod(ds[:ell] + ds[ell + 1:]) for ell in range(L)]\n",
    "\n",
    "# Fixed parameters\n",
    "# Psis = {\n",
    "#     f'Axis {ell}': 0 * np.ones((ds[ell], ds[ell])) / ds[ell] + np.eye(ds[ell])\n",
    "#     for ell in range(L)\n",
    "# }\n",
    "# Psis = {\n",
    "#     f'Axis {ell}': stats.wishart.rvs(\n",
    "#         df=ds[ell],\n",
    "#         scale=np.ones((ds[ell], ds[ell])) / 1.1 + np.eye(ds[ell])\n",
    "#     )\n",
    "#     for ell in range(L)\n",
    "# }\n",
    "Psis = {\n",
    "    f'Axis {ell}': np.eye(ds[ell]) / 2\n",
    "    for ell in range(L)\n",
    "}\n",
    "\n",
    "# Parameters to estimate, give it good initial guesses\n",
    "means_init = [(data - data.mean()).mean(axis=tuple([j for j in range(L) if j != ell])) for ell in range(L)]\n",
    "full_mean_init = data.mean()\n",
    "means = {f'Axis {i}': _.copy() for i, _ in enumerate(means_init)}\n",
    "full_mean = full_mean_init\n",
    "data"
   ]
  },
  {
   "cell_type": "code",
   "execution_count": 3,
   "metadata": {},
   "outputs": [],
   "source": [
    "def null_estimator(data):\n",
    "    return Psis\n",
    "\n",
    "def gmgm_estimator(data):\n",
    "    output = GmGM(\n",
    "        data,\n",
    "        to_keep=0.5,\n",
    "        random_state=0,\n",
    "        batch_size=1000,\n",
    "        verbose=False,\n",
    "        n_comps=50,\n",
    "        threshold_method='statistical-significance',\n",
    "        readonly=True\n",
    "    )\n",
    "    return output.precision_matrices\n",
    "        \n",
    "\n",
    "NKS = mw.NoncentralKS(gmgm_estimator, (means, full_mean), Psis)"
   ]
  },
  {
   "cell_type": "code",
   "execution_count": 4,
   "metadata": {},
   "outputs": [
    {
     "data": {
      "text/plain": [
       "Dataset(\n",
       "\tdata: ('Axis 0', 'Axis 1')\n",
       ")\n",
       "Axes(\n",
       "\tAxis 1: 100\n",
       "\t\tPrior: None\n",
       "\t\tGram: Not calculated\n",
       "\t\tEig: Not calculated\n",
       "\tAxis 0: 100\n",
       "\t\tPrior: None\n",
       "\t\tGram: Not calculated\n",
       "\t\tEig: Not calculated\n",
       ")"
      ]
     },
     "execution_count": 4,
     "metadata": {},
     "output_type": "execute_result"
    }
   ],
   "source": [
    "dataset = Dataset(\n",
    "    dataset={'data': data},\n",
    "    structure={'data': tuple([f'Axis {i}' for i in range(L)])},\n",
    ")\n",
    "dataset"
   ]
  },
  {
   "cell_type": "code",
   "execution_count": 5,
   "metadata": {},
   "outputs": [
    {
     "name": "stdout",
     "output_type": "stream",
     "text": [
      "Iteration: 1 (Change: 0.0825608283420819)\n",
      "Iteration: 2 (Change: 0.001066696435467241)\n",
      "Converged in 3 iterations\n",
      "Iteration: 3 (Change: 3.7336270686879036e-05)\n",
      "-9.999965291574318 [-49.40894029 -48.49414514 -47.6103787  -46.46841316 -45.3690133\n",
      " -44.54098409 -43.55846779 -42.49040637 -41.66780265 -40.38136107\n",
      " -39.54504059 -38.56317478 -37.36952791 -36.4378125  -35.28165559\n",
      " -34.21258297 -33.48786563 -32.4745594  -31.4998457  -30.66666208\n",
      " -29.49572801 -28.39495031 -27.69546714 -26.39141887 -25.46535823\n",
      " -24.46292048 -23.45900213 -22.40793424 -21.45720014 -20.50141449\n",
      " -19.41722025 -18.48456599 -17.54199316 -16.4502485  -15.43740651\n",
      " -14.46409903 -13.48619317 -12.58550998 -11.67175509 -10.56430879\n",
      "  -9.35746787  -8.71581403  -7.48148542  -6.57729285  -5.54106915\n",
      "  -4.32998414  -3.4872884   -2.4225331   -1.64670358  -0.4508701\n",
      "   0.42334531   1.51080854   2.66811325   3.51588963   4.5430995\n",
      "   5.52712035   6.54318385   7.45971031   8.54866533   9.45311503\n",
      "  10.53762969  11.36788991  12.74574276  13.60486184  14.68160904\n",
      "  15.5922841   16.28853583  17.59440605  18.40021726  19.42318336\n",
      "  20.41954422  21.44069806  22.32114343  23.41454197  24.27583779\n",
      "  25.574434    26.42829521  27.49326523  28.39873228  29.4834691\n",
      "  30.48755056  31.51704223  32.43558158  33.45650106  34.61311873\n",
      "  35.53793514  36.41469557  37.47424993  38.52249997  39.52679625\n",
      "  40.49067368  41.44690411  42.45215185  43.43570434  44.59544552\n",
      "  45.56140266  46.37063255  47.54684665  48.38211352  49.42662471]\n",
      "[[0.27762273 0.00049022 0.03503729 ... 0.01930741 0.01377987 0.0255076 ]\n",
      " [0.00049022 0.3393254  0.10965464 ... 0.0593139  0.00741569 0.0330647 ]\n",
      " [0.03503729 0.10965464 0.2327437  ... 0.02700183 0.02941591 0.01716408]\n",
      " ...\n",
      " [0.01930741 0.0593139  0.02700183 ... 0.28790528 0.0138242  0.07107514]\n",
      " [0.01377987 0.00741569 0.02941591 ... 0.0138242  0.23929116 0.03931658]\n",
      " [0.0255076  0.0330647  0.01716408 ... 0.07107514 0.03931658 0.30394295]]\n"
     ]
    }
   ],
   "source": [
    "a, b = NKS.fit(dataset, verbose=True)\n",
    "print(a[1], a[0]['Axis 1'])\n",
    "print(b['Axis 0'].toarray())"
   ]
  },
  {
   "cell_type": "code",
   "execution_count": 6,
   "metadata": {},
   "outputs": [
    {
     "data": {
      "text/plain": [
       "array([[0.28619018, 0.00096461, 0.01379754, ..., 0.03659574, 0.0115982 ,\n",
       "        0.02690401],\n",
       "       [0.00096461, 0.2546686 , 0.03930949, ..., 0.01427553, 0.00460409,\n",
       "        0.00694059],\n",
       "       [0.01379754, 0.03930949, 0.27948195, ..., 0.04728876, 0.00329339,\n",
       "        0.01195691],\n",
       "       ...,\n",
       "       [0.03659574, 0.01427553, 0.04728876, ..., 0.27319497, 0.00693736,\n",
       "        0.01640781],\n",
       "       [0.0115982 , 0.00460409, 0.00329339, ..., 0.00693736, 0.27186447,\n",
       "        0.0341961 ],\n",
       "       [0.02690401, 0.00694059, 0.01195691, ..., 0.01640781, 0.0341961 ,\n",
       "        0.24892157]], dtype=float32)"
      ]
     },
     "execution_count": 6,
     "metadata": {},
     "output_type": "execute_result"
    }
   ],
   "source": [
    "b['Axis 1'].toarray()"
   ]
  }
 ],
 "metadata": {
  "kernelspec": {
   "display_name": "Python 3",
   "language": "python",
   "name": "python3"
  },
  "language_info": {
   "codemirror_mode": {
    "name": "ipython",
    "version": 3
   },
   "file_extension": ".py",
   "mimetype": "text/x-python",
   "name": "python",
   "nbconvert_exporter": "python",
   "pygments_lexer": "ipython3",
   "version": "3.9.15"
  }
 },
 "nbformat": 4,
 "nbformat_minor": 2
}
