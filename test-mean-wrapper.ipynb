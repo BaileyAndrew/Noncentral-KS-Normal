{
 "cells": [
  {
   "cell_type": "code",
   "execution_count": 220,
   "metadata": {},
   "outputs": [],
   "source": [
    "import numpy as np\n",
    "import scipy.stats as stats\n",
    "import mean_wrapper as mw\n",
    "from GmGM import Dataset, GmGM"
   ]
  },
  {
   "cell_type": "code",
   "execution_count": 221,
   "metadata": {},
   "outputs": [
    {
     "data": {
      "text/plain": [
       "array([[-61.33356318, -57.89470627, -57.1793275 , ...,  37.05095412,\n",
       "         39.00943671,  39.63939288],\n",
       "       [-58.51222698, -57.51798186, -58.15777283, ...,  38.79837826,\n",
       "         40.13245665,  39.36783795],\n",
       "       [-59.95354382, -59.83914472, -55.78431538, ...,  39.08822421,\n",
       "         39.71725236,  39.60308067],\n",
       "       ...,\n",
       "       [-61.12165162, -56.28375389, -57.11666534, ...,  39.27804978,\n",
       "         40.75777691,  39.46577528],\n",
       "       [-60.37305027, -57.18973723, -57.78763227, ...,  38.92162927,\n",
       "         41.8359825 ,  38.38868514],\n",
       "       [-61.93552314, -58.57922563, -56.55943459, ...,  37.19652209,\n",
       "         39.31660956,  39.29997415]])"
      ]
     },
     "execution_count": 221,
     "metadata": {},
     "output_type": "execute_result"
    }
   ],
   "source": [
    "# Test dataset\n",
    "ds = [100, 100]\n",
    "data = np.random.normal(size=ds, scale=1)\n",
    "\n",
    "# Derived parameters\n",
    "L = len(ds)\n",
    "d_slashes = [np.prod(ds[:ell] + ds[ell + 1:]) for ell in range(L)]\n",
    "\n",
    "# Fixed parameters\n",
    "# Psis = {\n",
    "#     f'Axis {ell}': 10 * np.ones((ds[ell], ds[ell])) / ds[ell] + np.eye(ds[ell])\n",
    "#     for ell in range(L)\n",
    "# }\n",
    "Psis = {\n",
    "    f'Axis {ell}': stats.wishart.rvs(\n",
    "        df=ds[ell],\n",
    "        scale=np.ones((ds[ell], ds[ell])) / 1.1 + np.eye(ds[ell])\n",
    "    ) / ds[ell]\n",
    "    for ell in range(L)\n",
    "}\n",
    "# Psis = {\n",
    "#     f'Axis {ell}': np.eye(ds[ell])\n",
    "#     for ell in range(L)\n",
    "# }\n",
    "\n",
    "# Transform data to have certain dependencies\n",
    "for ell in range(L):\n",
    "    data = np.moveaxis(\n",
    "        np.moveaxis(\n",
    "            data,\n",
    "            ell, -1\n",
    "        ) @ np.linalg.cholesky(Psis[f'Axis {ell}']).T,\n",
    "        -1, ell\n",
    "    )\n",
    "\n",
    "# Add mean offsets to data\n",
    "data += np.arange(ds[-1])\n",
    "data -= 10 + data.mean()\n",
    "\n",
    "# Parameters to estimate, give it good initial guesses\n",
    "means_init = [(data - data.mean()).mean(axis=tuple([j for j in range(L) if j != ell])) for ell in range(L)]\n",
    "full_mean_init = data.mean()\n",
    "means = {f'Axis {i}': _.copy() for i, _ in enumerate(means_init)}\n",
    "full_mean = full_mean_init\n",
    "data"
   ]
  },
  {
   "cell_type": "code",
   "execution_count": 222,
   "metadata": {},
   "outputs": [],
   "source": [
    "def null_estimator(data):\n",
    "    return Psis\n",
    "\n",
    "def gmgm_estimator(data):\n",
    "    output = GmGM(\n",
    "        data,\n",
    "        to_keep=0.5,\n",
    "        random_state=0,\n",
    "        batch_size=1000,\n",
    "        verbose=False,\n",
    "        n_comps=50,\n",
    "        threshold_method='statistical-significance',\n",
    "        readonly=True\n",
    "    )\n",
    "    return output.precision_matrices\n",
    "        \n",
    "\n",
    "NKS = mw.NoncentralKS(gmgm_estimator, (means, full_mean), Psis)"
   ]
  },
  {
   "cell_type": "code",
   "execution_count": 223,
   "metadata": {},
   "outputs": [
    {
     "data": {
      "text/plain": [
       "Dataset(\n",
       "\tdata: ('Axis 0', 'Axis 1')\n",
       ")\n",
       "Axes(\n",
       "\tAxis 0: 100\n",
       "\t\tPrior: None\n",
       "\t\tGram: Not calculated\n",
       "\t\tEig: Not calculated\n",
       "\tAxis 1: 100\n",
       "\t\tPrior: None\n",
       "\t\tGram: Not calculated\n",
       "\t\tEig: Not calculated\n",
       ")"
      ]
     },
     "execution_count": 223,
     "metadata": {},
     "output_type": "execute_result"
    }
   ],
   "source": [
    "dataset = Dataset(\n",
    "    dataset={'data': data},\n",
    "    structure={'data': tuple([f'Axis {i}' for i in range(L)])},\n",
    ")\n",
    "dataset"
   ]
  },
  {
   "cell_type": "code",
   "execution_count": 224,
   "metadata": {},
   "outputs": [
    {
     "name": "stdout",
     "output_type": "stream",
     "text": [
      "Iteration: 1 (Change: 112.80700021255379)\n",
      "Iteration: 2 (Change: 0.0479331974525785)\n",
      "Iteration: 3 (Change: 0.0008734762622852189)\n",
      "Converged in 4 iterations\n",
      "Iteration: 4 (Change: 2.7854614609581658e-05)\n",
      "-10.000021159816269 [-50.83033846 -48.07441677 -47.18785204 -47.9367314  -45.23810681\n",
      " -45.43114633 -42.93327462 -42.04502005 -42.58024214 -40.00059635\n",
      " -39.73305306 -38.58192841 -37.5410955  -36.78176906 -35.83393581\n",
      " -35.33306763 -32.50571191 -33.24305924 -32.03171906 -31.69359397\n",
      " -28.66494651 -28.05405276 -28.65838175 -26.66173044 -27.96784449\n",
      " -23.88685245 -23.3894561  -21.78211103 -20.6844571  -19.99110919\n",
      " -20.33615546 -18.34477747 -16.48855866 -15.97118583 -16.29917772\n",
      " -14.49909041 -12.41745547 -13.5120476  -11.35713943 -10.66646783\n",
      "  -9.16322527  -8.73990489  -7.97705086  -7.57758035  -4.96450829\n",
      "  -2.9651595   -3.65684052  -1.95707928  -0.37524086  -0.85284251\n",
      "   0.20865004   1.71980861   1.68057744   3.57524052   3.59652335\n",
      "   2.9943771    6.51846832   8.53867584   7.38291154   9.62483561\n",
      "  10.12705477  11.73382279  13.33322373  14.40494886  14.3594325\n",
      "  16.55973113  15.91808204  18.02696357  17.39000324  18.21823852\n",
      "  20.99506127  22.35333308  23.95496391  24.36880611  24.51449666\n",
      "  24.16254033  27.26403236  26.95785476  27.9251744   28.99101987\n",
      "  28.54392368  31.72170657  32.31251328  34.09306537  34.6174676\n",
      "  36.69779405  37.54106685  37.15756128  38.25426633  40.65440687\n",
      "  41.19705992  42.01733994  40.77707689  43.67389962  44.77422839\n",
      "  46.22516593  48.4246617   48.19762611  49.4952118   49.62419421]\n"
     ]
    }
   ],
   "source": [
    "a, b = NKS.fit(dataset, verbose=True)\n",
    "print(a[1], a[0]['Axis 1'])"
   ]
  },
  {
   "cell_type": "code",
   "execution_count": 225,
   "metadata": {},
   "outputs": [
    {
     "data": {
      "text/plain": [
       "0.7668465805053711"
      ]
     },
     "execution_count": 225,
     "metadata": {},
     "output_type": "execute_result"
    }
   ],
   "source": [
    "(b['Axis 0'].toarray().diagonal().sum() * ds[0] + ds[1] * b['Axis 1'].toarray().diagonal().sum()) / (ds[0] * ds[1])"
   ]
  },
  {
   "cell_type": "code",
   "execution_count": 226,
   "metadata": {},
   "outputs": [
    {
     "data": {
      "text/plain": [
       "array([[0.34335104, 0.06771474, 0.0480319 , ..., 0.06942948, 0.00921197,\n",
       "        0.0232182 ],\n",
       "       [0.06771474, 0.3247674 , 0.05914727, ..., 0.02119167, 0.01530092,\n",
       "        0.02660878],\n",
       "       [0.0480319 , 0.05914727, 0.37487522, ..., 0.05696075, 0.02421396,\n",
       "        0.00561598],\n",
       "       ...,\n",
       "       [0.06942948, 0.02119167, 0.05696075, ..., 0.36693436, 0.00891732,\n",
       "        0.03361278],\n",
       "       [0.00921197, 0.01530092, 0.02421396, ..., 0.00891732, 0.44192332,\n",
       "        0.01611859],\n",
       "       [0.0232182 , 0.02660878, 0.00561598, ..., 0.03361278, 0.01611859,\n",
       "        0.3633759 ]], dtype=float32)"
      ]
     },
     "execution_count": 226,
     "metadata": {},
     "output_type": "execute_result"
    }
   ],
   "source": [
    "b['Axis 0'].toarray()"
   ]
  }
 ],
 "metadata": {
  "kernelspec": {
   "display_name": "Python 3",
   "language": "python",
   "name": "python3"
  },
  "language_info": {
   "codemirror_mode": {
    "name": "ipython",
    "version": 3
   },
   "file_extension": ".py",
   "mimetype": "text/x-python",
   "name": "python",
   "nbconvert_exporter": "python",
   "pygments_lexer": "ipython3",
   "version": "3.9.15"
  }
 },
 "nbformat": 4,
 "nbformat_minor": 2
}
