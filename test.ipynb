{
 "cells": [
  {
   "cell_type": "code",
   "execution_count": 891,
   "metadata": {},
   "outputs": [],
   "source": [
    "import numpy as np\n",
    "import scipy.stats as stats"
   ]
  },
  {
   "cell_type": "code",
   "execution_count": 892,
   "metadata": {},
   "outputs": [],
   "source": [
    "def vec_kron_sum(Xs: list) -> np.array:\n",
    "    \"\"\"Compute the Kronecker vector-sum\"\"\"\n",
    "    if len(Xs) == 1:\n",
    "        return Xs[0]\n",
    "    elif len(Xs) == 2:\n",
    "        return np.kron(Xs[0], np.ones(Xs[1].shape[0])) + np.kron(np.ones(Xs[0].shape[0]), Xs[1])\n",
    "    else:\n",
    "        d_slash0 = np.prod([X.shape[0] for X in Xs[1:]])\n",
    "        return (\n",
    "            np.kron(Xs[0], np.ones(d_slash0))\n",
    "            + np.kron(np.ones(Xs[0].shape[0]), vec_kron_sum(Xs[1:]))\n",
    "        )"
   ]
  },
  {
   "cell_type": "code",
   "execution_count": 893,
   "metadata": {},
   "outputs": [
    {
     "data": {
      "text/plain": [
       "array([[-10.38502422,  -3.73570157,  -0.13257653],\n",
       "       [ -9.17681933,  -4.86155745,  -0.21677802],\n",
       "       [ -9.3473275 ,  -5.08042632,   1.15247353],\n",
       "       [ -9.17186065,  -3.47267159,  -0.09709937]])"
      ]
     },
     "execution_count": 893,
     "metadata": {},
     "output_type": "execute_result"
    }
   ],
   "source": [
    "# Test dataset\n",
    "ds = [4, 3]\n",
    "#data = np.arange(np.prod(ds)).reshape(ds).astype(float)\n",
    "#data -= data.mean() + 10\n",
    "data = np.random.normal(size=ds)\n",
    "data -= 10\n",
    "data += 5 * np.arange(ds[-1])\n",
    "\n",
    "# Derived parameters\n",
    "L = len(ds)\n",
    "d_slashes = [np.prod(ds[:ell] + ds[ell + 1:]) for ell in range(L)]\n",
    "\n",
    "# Fixed parameters\n",
    "#Psis = [0 * np.ones((ds[ell], ds[ell])) / ds[ell] + np.eye(ds[ell]) for ell in range(L)]\n",
    "Psis = [stats.wishart.rvs(df=ds[ell], scale=np.ones((ds[ell], ds[ell])) / 1.1 + np.eye(ds[ell])) for ell in range(L)]\n",
    "\n",
    "# Parameters to estimate\n",
    "means = [np.zeros((d,)) for d in ds]\n",
    "full_mean = 0\n",
    "data"
   ]
  },
  {
   "cell_type": "code",
   "execution_count": 894,
   "metadata": {},
   "outputs": [],
   "source": [
    "# # Derived parameters for our mean problem\n",
    "# lsum_Psis = [Psis[ell].sum(axis=1) for ell in range(L)]\n",
    "# sum_Psis = [lsum_Psis[ell].sum() for ell in range(L)]\n",
    "# sum_Psis_slashes = [sum([d_slashes[ell] * sum_Psis[ell] for ell in range(L) if ell != ell_prime]) for ell_prime in range(L)]\n",
    "\n",
    "# # The matrix that needs to be inverted\n",
    "# trans = [d_slashes[ell] * Psis[ell] + sum_Psis_slashes[ell] * np.eye(ds[ell]) for ell in range(L)]\n",
    "# inv_trans = [np.linalg.pinv(trans[ell]) for ell in range(L)]\n",
    "\n",
    "# # The data contribution\n",
    "# def datatrans(ell, data, Psis):\n",
    "#     # Sum along all axes but ell\n",
    "#     base = data.sum(axis=tuple([i for i in range(L) if i != ell]))\n",
    "#     base = Psis[ell] @ base\n",
    "\n",
    "#     for ell_prime in range(len(Psis)):\n",
    "#         if ell_prime == ell:\n",
    "#             continue\n",
    "#         # Sum along all axes but ell and ell_prime\n",
    "#         to_add = data.sum(axis=tuple([i for i in range(L) if i != ell and i != ell_prime]))\n",
    "        \n",
    "#         # Multiply by Psi_{ell_prime} and then sum along ell_prime\n",
    "#         if ell_prime < ell:\n",
    "#             to_add = (Psis[ell_prime] @ to_add).sum(axis=0)\n",
    "#         else:\n",
    "#             to_add = (Psis[ell_prime] @ to_add.T).sum(axis=0)\n",
    "\n",
    "#         base += to_add\n",
    "\n",
    "#     return base\n",
    "\n",
    "# # The off-axis mean contribution\n",
    "# def get_off_axis_contribution(ell_prime, means, lsum_Psis):\n",
    "#     # These two values should always be zero when the mean constraint is satisfied\n",
    "#     #mean_sums = [means[ell].sum() for ell in range(L)]\n",
    "#     #mean_slash_sum = sum([mean_sums[ell] for ell in range(L) if ell != ell_prime])\n",
    "\n",
    "#     mean_mahalanobis = (\n",
    "#         vec_kron_sum([means[ell] for ell in range(L) if ell != ell_prime])\n",
    "#         @ vec_kron_sum([lsum_Psis[ell] for ell in range(L) if ell != ell_prime])\n",
    "#     )\n",
    "#     #return mean_slash_sum * lsum_Psis[ell_prime] + mean_mahalanobis\n",
    "#     return mean_mahalanobis\n",
    "\n",
    "# # Do a cycle of coordinate descent\n",
    "# max_cycles = 20\n",
    "# for cycle in range(max_cycles):\n",
    "#     for ell in range(L):\n",
    "#         # Means\n",
    "#         data_contribution = datatrans(ell, data - full_mean, Psis)\n",
    "#         off_axis_contribution = get_off_axis_contribution(ell, means, lsum_Psis)\n",
    "#         base = data_contribution - (off_axis_contribution).sum(axis=0)\n",
    "#         means[ell] = (base) @ inv_trans[ell]\n",
    "\n",
    "#         # Handle constraint\n",
    "#         full_mean += means[ell].mean() # Offload excess values to full_mean\n",
    "#         means[ell] -= means[ell].mean() # Then set to zero as required by the constraint\n",
    "#         print(means[ell])\n",
    "\n",
    "#     full_mean = (data.reshape(-1) - vec_kron_sum(means)) @ vec_kron_sum(lsum_Psis) / sum(d_slashes[ell] * sum_Psis[ell] for ell in range(L))\n",
    "#     print('----')"
   ]
  },
  {
   "cell_type": "code",
   "execution_count": 895,
   "metadata": {},
   "outputs": [
    {
     "name": "stdout",
     "output_type": "stream",
     "text": [
      "[array([ 0.01463114, -0.15557951,  0.64749921, -0.50655083]), array([ 2.89153174,  2.10054215, -4.9920739 ])]\n",
      "[array([ 0.01241248, -0.01488281,  0.30569244, -0.30322211]), array([ 2.80486085,  0.15972287, -2.96458372])]\n",
      "[array([ 0.01264521, -0.02964131,  0.34154656, -0.32455045]), array([ 2.81395227,  0.36330681, -3.17725908])]\n",
      "[array([ 0.01262079, -0.0280932 ,  0.33778561, -0.3223132 ]), array([ 2.81299862,  0.3419517 , -3.15495031])]\n",
      "[array([ 0.01262335, -0.02825559,  0.33818012, -0.32254788]), array([ 2.81309865,  0.34419176, -3.15729041])]\n",
      "[array([ 0.01262309, -0.02823856,  0.33813874, -0.32252326]), array([ 2.81308816,  0.34395679, -3.15704495])]\n",
      "[array([ 0.01262311, -0.02824035,  0.33814308, -0.32252584]), array([ 2.81308926,  0.34398143, -3.15707069])]\n",
      "[array([ 0.01262311, -0.02824016,  0.33814262, -0.32252557]), array([ 2.81308915,  0.34397885, -3.15706799])]\n",
      "[array([ 0.01262311, -0.02824018,  0.33814267, -0.3225256 ]), array([ 2.81308916,  0.34397912, -3.15706828])]\n",
      "[array([ 0.01262311, -0.02824018,  0.33814266, -0.3225256 ]), array([ 2.81308916,  0.34397909, -3.15706825])]\n",
      "[array([ 0.01262311, -0.02824018,  0.33814266, -0.3225256 ]), array([ 2.81308916,  0.34397909, -3.15706825])]\n",
      "[array([ 0.01262311, -0.02824018,  0.33814266, -0.3225256 ]), array([ 2.81308916,  0.34397909, -3.15706825])]\n",
      "[array([ 0.01262311, -0.02824018,  0.33814266, -0.3225256 ]), array([ 2.81308916,  0.34397909, -3.15706825])]\n",
      "[array([ 0.01262311, -0.02824018,  0.33814266, -0.3225256 ]), array([ 2.81308916,  0.34397909, -3.15706825])]\n",
      "[array([ 0.01262311, -0.02824018,  0.33814266, -0.3225256 ]), array([ 2.81308916,  0.34397909, -3.15706825])]\n"
     ]
    }
   ],
   "source": [
    "# NEW VERSION BASED ON QUADRATIC PROGRAMMING\n",
    "\n",
    "# Derived parameters for our mean problem\n",
    "lsum_Psis = [Psis[ell].sum(axis=1) for ell in range(L)]\n",
    "sum_Psis = [lsum_Psis[ell].sum() for ell in range(L)]\n",
    "sum_Psis_slashes = [sum([d_slashes[ell] * sum_Psis[ell] for ell in range(L) if ell != ell_prime]) for ell_prime in range(L)]\n",
    "\n",
    "# The matrix that needs to be inverted\n",
    "trans = [d_slashes[ell] * Psis[ell] + sum_Psis_slashes[ell] * np.eye(ds[ell]) for ell in range(L)]\n",
    "inv_trans = [np.linalg.pinv(trans[ell]) for ell in range(L)]\n",
    "\n",
    "# The data contribution\n",
    "def datatrans(ell, data, Psis):\n",
    "    # Sum along all axes but ell\n",
    "    base = data.sum(axis=tuple([i for i in range(L) if i != ell]))\n",
    "    base = Psis[ell] @ base\n",
    "\n",
    "    for ell_prime in range(len(Psis)):\n",
    "        if ell_prime == ell:\n",
    "            continue\n",
    "        # Sum along all axes but ell and ell_prime\n",
    "        to_add = data.sum(axis=tuple([i for i in range(L) if i != ell and i != ell_prime]))\n",
    "        \n",
    "        # Multiply by Psi_{ell_prime} and then sum along ell_prime\n",
    "        if ell_prime < ell:\n",
    "            to_add = (Psis[ell_prime] @ to_add).sum(axis=0)\n",
    "        else:\n",
    "            to_add = (Psis[ell_prime] @ to_add.T).sum(axis=0)\n",
    "\n",
    "        base += to_add\n",
    "\n",
    "    return base\n",
    "\n",
    "b_bases = [\n",
    "    datatrans(ell, data, Psis)\n",
    "    for ell in range(L)\n",
    "]\n",
    "max_cycles = 15\n",
    "for cycle in range(max_cycles):\n",
    "    for ell in range(L):\n",
    "        # Preliminary calculations\n",
    "        mean_sum = vec_kron_sum([lsum_Psis[ell_prime] for ell_prime in range(L) if ell != ell_prime]).sum()\n",
    "        mean_lsum = (\n",
    "            vec_kron_sum([means[ell_prime] for ell_prime in range(L) if ell != ell_prime])\n",
    "            @ vec_kron_sum([lsum_Psis[ell_prime] for ell_prime in range(L) if ell != ell_prime])\n",
    "        )\n",
    "        A_inv = inv_trans[ell]\n",
    "        b = (\n",
    "            d_slashes[ell] * full_mean * lsum_Psis[ell]\n",
    "            + full_mean * sum_Psis[ell]\n",
    "            + lsum_Psis[ell] * mean_sum\n",
    "            + mean_lsum\n",
    "            - b_bases[ell]\n",
    "        )\n",
    "        A_inv_b = A_inv @ b\n",
    "        means[ell] = A_inv_b - (A_inv_b.sum() / A_inv.sum()) * A_inv.sum(axis=0)\n",
    "        \n",
    "    print(means)\n",
    "    full_mean = (data.reshape(-1) - vec_kron_sum(means)) @ vec_kron_sum(lsum_Psis) / sum(d_slashes[ell] * sum_Psis[ell] for ell in range(L))"
   ]
  },
  {
   "cell_type": "code",
   "execution_count": 896,
   "metadata": {},
   "outputs": [
    {
     "data": {
      "text/plain": [
       "(-4.543780751536123, -5.66582949203678, -1.8503717077085943e-16)"
      ]
     },
     "execution_count": 896,
     "metadata": {},
     "output_type": "execute_result"
    }
   ],
   "source": [
    "data.mean(), full_mean, vec_kron_sum([m for m in means]).mean()"
   ]
  },
  {
   "cell_type": "code",
   "execution_count": 897,
   "metadata": {},
   "outputs": [
    {
     "data": {
      "text/plain": [
       "0.8019621412755756"
      ]
     },
     "execution_count": 897,
     "metadata": {},
     "output_type": "execute_result"
    }
   ],
   "source": [
    "data.mean() / full_mean"
   ]
  },
  {
   "cell_type": "code",
   "execution_count": 898,
   "metadata": {},
   "outputs": [
    {
     "data": {
      "text/plain": [
       "array([[-4.71919473,  1.93012792,  5.53325296],\n",
       "       [-3.51098983,  0.80427204,  5.44905147],\n",
       "       [-3.68149801,  0.58540318,  6.81830303],\n",
       "       [-3.50603116,  2.1931579 ,  5.56873013]])"
      ]
     },
     "execution_count": 898,
     "metadata": {},
     "output_type": "execute_result"
    }
   ],
   "source": [
    "data - full_mean"
   ]
  },
  {
   "cell_type": "code",
   "execution_count": 899,
   "metadata": {},
   "outputs": [
    {
     "data": {
      "text/plain": [
       "array([[-7.544907  ,  1.57352571,  8.6776981 ],\n",
       "       [-6.29583881,  0.48853312,  8.6343599 ],\n",
       "       [-6.83272983, -0.09671858,  9.63722861],\n",
       "       [-5.99659472,  2.1717044 ,  9.04832397]])"
      ]
     },
     "execution_count": 899,
     "metadata": {},
     "output_type": "execute_result"
    }
   ],
   "source": [
    "data - full_mean - vec_kron_sum([m for m in means]).reshape(ds)"
   ]
  },
  {
   "cell_type": "code",
   "execution_count": 900,
   "metadata": {},
   "outputs": [
    {
     "data": {
      "text/plain": [
       "array([[ 2.82571227,  0.3566022 , -3.14444514],\n",
       "       [ 2.78484898,  0.31573892, -3.18530843],\n",
       "       [ 3.15123182,  0.68212176, -2.81892559],\n",
       "       [ 2.49056356,  0.0214535 , -3.47959385]])"
      ]
     },
     "execution_count": 900,
     "metadata": {},
     "output_type": "execute_result"
    }
   ],
   "source": [
    "(vec_kron_sum([m for m in means])).reshape(ds)"
   ]
  },
  {
   "cell_type": "code",
   "execution_count": 901,
   "metadata": {},
   "outputs": [
    {
     "data": {
      "text/plain": [
       "(array([-3.85442843,  1.37824026,  5.8423344 ]),\n",
       " array([ 2.81308916,  0.34397909, -3.15706825]))"
      ]
     },
     "execution_count": 901,
     "metadata": {},
     "output_type": "execute_result"
    }
   ],
   "source": [
    "data.mean(axis=tuple(x for x in range(L) if x != 1)) - full_mean, means[1]"
   ]
  },
  {
   "cell_type": "code",
   "execution_count": 902,
   "metadata": {},
   "outputs": [
    {
     "data": {
      "text/plain": [
       "(array([0.91472872, 0.91411123, 1.24073607, 1.41861895]),\n",
       " array([ 0.01262311, -0.02824018,  0.33814266, -0.3225256 ]))"
      ]
     },
     "execution_count": 902,
     "metadata": {},
     "output_type": "execute_result"
    }
   ],
   "source": [
    "data.mean(axis=tuple(x for x in range(L) if x != 0)) - full_mean, means[0]"
   ]
  }
 ],
 "metadata": {
  "kernelspec": {
   "display_name": "Python 3",
   "language": "python",
   "name": "python3"
  },
  "language_info": {
   "codemirror_mode": {
    "name": "ipython",
    "version": 3
   },
   "file_extension": ".py",
   "mimetype": "text/x-python",
   "name": "python",
   "nbconvert_exporter": "python",
   "pygments_lexer": "ipython3",
   "version": "3.9.15"
  }
 },
 "nbformat": 4,
 "nbformat_minor": 2
}
