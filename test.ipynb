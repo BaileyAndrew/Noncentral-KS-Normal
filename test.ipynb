{
 "cells": [
  {
   "cell_type": "code",
   "execution_count": 805,
   "metadata": {},
   "outputs": [],
   "source": [
    "import numpy as np\n",
    "import scipy.stats as stats"
   ]
  },
  {
   "cell_type": "code",
   "execution_count": 806,
   "metadata": {},
   "outputs": [],
   "source": [
    "def vec_kron_sum(Xs: list) -> np.array:\n",
    "    \"\"\"Compute the Kronecker vector-sum\"\"\"\n",
    "    if len(Xs) == 1:\n",
    "        return Xs[0]\n",
    "    elif len(Xs) == 2:\n",
    "        return np.kron(Xs[0], np.ones(Xs[1].shape[0])) + np.kron(np.ones(Xs[0].shape[0]), Xs[1])\n",
    "    else:\n",
    "        d_slash0 = np.prod([X.shape[0] for X in Xs[1:]])\n",
    "        return (\n",
    "            np.kron(Xs[0], np.ones(d_slash0))\n",
    "            + np.kron(np.ones(Xs[0].shape[0]), vec_kron_sum(Xs[1:]))\n",
    "        )\n",
    "    \n",
    "def kron_sum(Xs: list) -> np.array:\n",
    "    \"\"\"Compute the Kronecker sum\"\"\"\n",
    "    if len(Xs) == 1:\n",
    "        return Xs[0]\n",
    "    elif len(Xs) == 2:\n",
    "        return np.kron(Xs[0], np.eye(Xs[1].shape[0])) + np.kron(np.eye(Xs[0].shape[0]), Xs[1])\n",
    "    else:\n",
    "        d_slash0 = np.prod([X.shape[0] for X in Xs[1:]])\n",
    "        return (\n",
    "            np.kron(Xs[0], np.eye(d_slash0))\n",
    "            + np.kron(np.eye(Xs[0].shape[0]), kron_sum(Xs[1:]))\n",
    "        )"
   ]
  },
  {
   "cell_type": "code",
   "execution_count": 807,
   "metadata": {},
   "outputs": [
    {
     "data": {
      "text/plain": [
       "array([[[-21.5, -20.5],\n",
       "        [-19.5, -18.5],\n",
       "        [-17.5, -16.5]],\n",
       "\n",
       "       [[-15.5, -14.5],\n",
       "        [-13.5, -12.5],\n",
       "        [-11.5, -10.5]],\n",
       "\n",
       "       [[ -9.5,  -8.5],\n",
       "        [ -7.5,  -6.5],\n",
       "        [ -5.5,  -4.5]],\n",
       "\n",
       "       [[ -3.5,  -2.5],\n",
       "        [ -1.5,  -0.5],\n",
       "        [  0.5,   1.5]]])"
      ]
     },
     "execution_count": 807,
     "metadata": {},
     "output_type": "execute_result"
    }
   ],
   "source": [
    "# Test dataset\n",
    "ds = [4, 3, 2]\n",
    "data = np.arange(np.prod(ds)).reshape(ds).astype(float)\n",
    "data -= data.mean() + 10\n",
    "#data = np.random.normal(size=ds)\n",
    "#data -= 10\n",
    "#data += 5 * np.arange(ds[-1])\n",
    "\n",
    "# Derived parameters\n",
    "L = len(ds)\n",
    "d_slashes = [np.prod(ds[:ell] + ds[ell + 1:]) for ell in range(L)]\n",
    "\n",
    "# Fixed parameters\n",
    "#Psis = [0 * np.ones((ds[ell], ds[ell])) / ds[ell] + np.eye(ds[ell]) for ell in range(L)]\n",
    "Psis = [stats.wishart.rvs(df=ds[ell], scale=np.ones((ds[ell], ds[ell])) / 1.1 + np.eye(ds[ell])) for ell in range(L)]\n",
    "\n",
    "# Parameters to estimate, give it good initial guesses\n",
    "means_init = [(data - data.mean()).mean(axis=tuple([j for j in range(L) if j != ell])) for ell in range(L)]\n",
    "full_mean_init = data.mean()\n",
    "means = [_.copy() for _ in means_init]\n",
    "full_mean = full_mean_init\n",
    "data"
   ]
  },
  {
   "cell_type": "code",
   "execution_count": 808,
   "metadata": {},
   "outputs": [
    {
     "name": "stdout",
     "output_type": "stream",
     "text": [
      "Start [array([-9., -3.,  3.,  9.]), array([-2.,  0.,  2.]), array([-0.5,  0.5])] -10.0\n",
      "[-139.23291432  645.86193346 1079.67931572 1462.62043438]\n",
      "[-3428.67797197 -2787.27861353 -2171.76834398]\n",
      "[-5141.28880415 -4638.9867035 ]\n",
      "[array([-9., -3.,  3.,  9.]), array([-2.00000000e+00,  7.10542736e-15,  2.00000000e+00]), array([-0.5,  0.5])] -10.000000000000002\n",
      "[-139.23291432  645.86193346 1079.67931572 1462.62043438]\n",
      "[-3428.67797197 -2787.27861353 -2171.76834398]\n",
      "[-5141.28880415 -4638.9867035 ]\n",
      "[array([-9., -3.,  3.,  9.]), array([-2.00000000e+00,  7.10542736e-15,  2.00000000e+00]), array([-0.5,  0.5])] -10.000000000000005\n",
      "[-139.23291432  645.86193346 1079.67931572 1462.62043438]\n",
      "[-3428.67797197 -2787.27861353 -2171.76834398]\n",
      "[-5141.28880415 -4638.9867035 ]\n",
      "[array([-9., -3.,  3.,  9.]), array([-2.00000000e+00,  5.32907052e-15,  2.00000000e+00]), array([-0.5,  0.5])] -10.0\n",
      "[-139.23291432  645.86193346 1079.67931572 1462.62043438]\n",
      "[-3428.67797197 -2787.27861353 -2171.76834398]\n",
      "[-5141.28880415 -4638.9867035 ]\n",
      "[array([-9., -3.,  3.,  9.]), array([-2.00000000e+00,  7.10542736e-15,  2.00000000e+00]), array([-0.5,  0.5])] -10.000000000000002\n",
      "[-139.23291432  645.86193346 1079.67931572 1462.62043438]\n",
      "[-3428.67797197 -2787.27861353 -2171.76834398]\n",
      "[-5141.28880415 -4638.9867035 ]\n",
      "[array([-9., -3.,  3.,  9.]), array([-2.00000000e+00,  7.10542736e-15,  2.00000000e+00]), array([-0.5,  0.5])] -10.000000000000005\n",
      "[-139.23291432  645.86193346 1079.67931572 1462.62043438]\n",
      "[-3428.67797197 -2787.27861353 -2171.76834398]\n",
      "[-5141.28880415 -4638.9867035 ]\n",
      "[array([-9., -3.,  3.,  9.]), array([-2.00000000e+00,  5.32907052e-15,  2.00000000e+00]), array([-0.5,  0.5])] -10.0\n",
      "[-139.23291432  645.86193346 1079.67931572 1462.62043438]\n",
      "[-3428.67797197 -2787.27861353 -2171.76834398]\n",
      "[-5141.28880415 -4638.9867035 ]\n",
      "[array([-9., -3.,  3.,  9.]), array([-2.00000000e+00,  7.10542736e-15,  2.00000000e+00]), array([-0.5,  0.5])] -10.000000000000002\n",
      "[-139.23291432  645.86193346 1079.67931572 1462.62043438]\n",
      "[-3428.67797197 -2787.27861353 -2171.76834398]\n",
      "[-5141.28880415 -4638.9867035 ]\n",
      "[array([-9., -3.,  3.,  9.]), array([-2.00000000e+00,  7.10542736e-15,  2.00000000e+00]), array([-0.5,  0.5])] -10.000000000000005\n",
      "[-139.23291432  645.86193346 1079.67931572 1462.62043438]\n",
      "[-3428.67797197 -2787.27861353 -2171.76834398]\n",
      "[-5141.28880415 -4638.9867035 ]\n",
      "[array([-9., -3.,  3.,  9.]), array([-2.00000000e+00,  5.32907052e-15,  2.00000000e+00]), array([-0.5,  0.5])] -10.0\n",
      "[-139.23291432  645.86193346 1079.67931572 1462.62043438]\n",
      "[-3428.67797197 -2787.27861353 -2171.76834398]\n",
      "[-5141.28880415 -4638.9867035 ]\n",
      "[array([-9., -3.,  3.,  9.]), array([-2.00000000e+00,  7.10542736e-15,  2.00000000e+00]), array([-0.5,  0.5])] -10.000000000000002\n",
      "[-139.23291432  645.86193346 1079.67931572 1462.62043438]\n",
      "[-3428.67797197 -2787.27861353 -2171.76834398]\n",
      "[-5141.28880415 -4638.9867035 ]\n",
      "[array([-9., -3.,  3.,  9.]), array([-2.00000000e+00,  7.10542736e-15,  2.00000000e+00]), array([-0.5,  0.5])] -10.000000000000005\n",
      "[-139.23291432  645.86193346 1079.67931572 1462.62043438]\n",
      "[-3428.67797197 -2787.27861353 -2171.76834398]\n",
      "[-5141.28880415 -4638.9867035 ]\n",
      "[array([-9., -3.,  3.,  9.]), array([-2.00000000e+00,  5.32907052e-15,  2.00000000e+00]), array([-0.5,  0.5])] -10.0\n",
      "[-139.23291432  645.86193346 1079.67931572 1462.62043438]\n",
      "[-3428.67797197 -2787.27861353 -2171.76834398]\n",
      "[-5141.28880415 -4638.9867035 ]\n",
      "[array([-9., -3.,  3.,  9.]), array([-2.00000000e+00,  7.10542736e-15,  2.00000000e+00]), array([-0.5,  0.5])] -10.000000000000002\n",
      "[-139.23291432  645.86193346 1079.67931572 1462.62043438]\n",
      "[-3428.67797197 -2787.27861353 -2171.76834398]\n",
      "[-5141.28880415 -4638.9867035 ]\n",
      "[array([-9., -3.,  3.,  9.]), array([-2.00000000e+00,  7.10542736e-15,  2.00000000e+00]), array([-0.5,  0.5])] -10.000000000000005\n",
      "[-139.23291432  645.86193346 1079.67931572 1462.62043438]\n",
      "[-3428.67797197 -2787.27861353 -2171.76834398]\n",
      "[-5141.28880415 -4638.9867035 ]\n",
      "[array([-9., -3.,  3.,  9.]), array([-2.00000000e+00,  5.32907052e-15,  2.00000000e+00]), array([-0.5,  0.5])] -10.0\n"
     ]
    }
   ],
   "source": [
    "# NEW VERSION BASED ON QUADRATIC PROGRAMMING\n",
    "\n",
    "# Derived parameters for our mean problem\n",
    "lsum_Psis = [Psis[ell].sum(axis=1) for ell in range(L)]\n",
    "sum_Psis = [lsum_Psis[ell].sum() for ell in range(L)]\n",
    "sum_Psis_slashes = [sum([d_slashes[ell] / ds[ell_prime] * sum_Psis[ell] for ell in range(L) if ell != ell_prime]) for ell_prime in range(L)]\n",
    "\n",
    "# The matrix that needs to be inverted\n",
    "A = [(d_slashes[ell] * Psis[ell] + sum_Psis_slashes[ell] * np.eye(ds[ell])) for ell in range(L)]\n",
    "A_inv = [np.linalg.pinv(A[ell]) for ell in range(L)]\n",
    "\n",
    "# The data contribution\n",
    "def datatrans(ell, data, Psis):\n",
    "    # Sum along all axes but ell\n",
    "    base = data.sum(axis=tuple([i for i in range(L) if i != ell]))\n",
    "    base = Psis[ell] @ base\n",
    "\n",
    "    for ell_prime in range(len(Psis)):\n",
    "        if ell_prime == ell:\n",
    "            continue\n",
    "        # Sum along all axes but ell and ell_prime\n",
    "        to_add = data.sum(axis=tuple([i for i in range(L) if i != ell and i != ell_prime]))\n",
    "        \n",
    "        # Multiply by Psi_{ell_prime} and then sum along ell_prime\n",
    "        if ell_prime < ell:\n",
    "            to_add = (lsum_Psis[ell_prime] @ to_add)\n",
    "        else:\n",
    "            to_add = (lsum_Psis[ell_prime] @ to_add.T)\n",
    "\n",
    "        base += to_add\n",
    "\n",
    "    return base\n",
    "\n",
    "b_bases = [\n",
    "    datatrans(ell, data, Psis)\n",
    "    for ell in range(L)\n",
    "]\n",
    "max_cycles = 15\n",
    "print(\"Start\", means, full_mean)\n",
    "for cycle in range(max_cycles):\n",
    "    for ell in range(L):\n",
    "        # Preliminary calculations\n",
    "        #mean_sum = vec_kron_sum([means[ell_prime] for ell_prime in range(L) if ell != ell_prime]).sum() # Should always be zero\n",
    "        mean_lsum = (\n",
    "            vec_kron_sum([means[ell_prime] for ell_prime in range(L) if ell != ell_prime])\n",
    "            @ vec_kron_sum([lsum_Psis[ell_prime] for ell_prime in range(L) if ell != ell_prime])\n",
    "        )\n",
    "        # Shouild b be negative?  Everything seems to work better if so - prove it\n",
    "        b = -(\n",
    "            d_slashes[ell] * full_mean * lsum_Psis[ell]\n",
    "            + full_mean * sum_Psis[ell]\n",
    "            #+ lsum_Psis[ell] * mean_sum # mean_sum should always be zero zero\n",
    "            + mean_lsum\n",
    "            - b_bases[ell]\n",
    "        )\n",
    "        print(b)\n",
    "        A_inv_b = A_inv[ell] @ b\n",
    "        means[ell] = A_inv_b - (A_inv_b.sum() / A_inv[ell].sum()) * A_inv[ell].sum(axis=0)\n",
    "        \n",
    "    full_mean = (data.reshape(-1) - vec_kron_sum(means)) @ vec_kron_sum(lsum_Psis) / sum(d_slashes[ell] * sum_Psis[ell] for ell in range(L))\n",
    "    print(means, full_mean)"
   ]
  },
  {
   "cell_type": "code",
   "execution_count": 809,
   "metadata": {},
   "outputs": [
    {
     "data": {
      "text/plain": [
       "(-10.0, -10.0, 4.440892098500626e-16)"
      ]
     },
     "execution_count": 809,
     "metadata": {},
     "output_type": "execute_result"
    }
   ],
   "source": [
    "data.mean(), full_mean, vec_kron_sum([m for m in means]).mean()"
   ]
  },
  {
   "cell_type": "code",
   "execution_count": 810,
   "metadata": {},
   "outputs": [
    {
     "data": {
      "text/plain": [
       "1.0"
      ]
     },
     "execution_count": 810,
     "metadata": {},
     "output_type": "execute_result"
    }
   ],
   "source": [
    "data.mean() / full_mean"
   ]
  },
  {
   "cell_type": "code",
   "execution_count": 811,
   "metadata": {},
   "outputs": [
    {
     "data": {
      "text/plain": [
       "array([[[-11.5, -10.5],\n",
       "        [ -9.5,  -8.5],\n",
       "        [ -7.5,  -6.5]],\n",
       "\n",
       "       [[ -5.5,  -4.5],\n",
       "        [ -3.5,  -2.5],\n",
       "        [ -1.5,  -0.5]],\n",
       "\n",
       "       [[  0.5,   1.5],\n",
       "        [  2.5,   3.5],\n",
       "        [  4.5,   5.5]],\n",
       "\n",
       "       [[  6.5,   7.5],\n",
       "        [  8.5,   9.5],\n",
       "        [ 10.5,  11.5]]])"
      ]
     },
     "execution_count": 811,
     "metadata": {},
     "output_type": "execute_result"
    }
   ],
   "source": [
    "data - full_mean"
   ]
  },
  {
   "cell_type": "code",
   "execution_count": 812,
   "metadata": {},
   "outputs": [
    {
     "data": {
      "text/plain": [
       "array([[[ 1.77635684e-14,  1.77635684e-14],\n",
       "        [ 1.06581410e-14,  1.06581410e-14],\n",
       "        [ 1.50990331e-14,  1.50990331e-14]],\n",
       "\n",
       "       [[-7.99360578e-15, -7.99360578e-15],\n",
       "        [-1.42108547e-14, -1.42108547e-14],\n",
       "        [-9.76996262e-15, -9.76996262e-15]],\n",
       "\n",
       "       [[ 2.66453526e-15,  2.66453526e-15],\n",
       "        [-3.55271368e-15, -3.55271368e-15],\n",
       "        [ 8.88178420e-16,  8.88178420e-16]],\n",
       "\n",
       "       [[-2.66453526e-15, -2.66453526e-15],\n",
       "        [-8.88178420e-15, -8.88178420e-15],\n",
       "        [-3.55271368e-15, -3.55271368e-15]]])"
      ]
     },
     "execution_count": 812,
     "metadata": {},
     "output_type": "execute_result"
    }
   ],
   "source": [
    "data - full_mean - vec_kron_sum([m for m in means]).reshape(ds)"
   ]
  },
  {
   "cell_type": "code",
   "execution_count": 813,
   "metadata": {},
   "outputs": [
    {
     "data": {
      "text/plain": [
       "array([[[-11.5, -10.5],\n",
       "        [ -9.5,  -8.5],\n",
       "        [ -7.5,  -6.5]],\n",
       "\n",
       "       [[ -5.5,  -4.5],\n",
       "        [ -3.5,  -2.5],\n",
       "        [ -1.5,  -0.5]],\n",
       "\n",
       "       [[  0.5,   1.5],\n",
       "        [  2.5,   3.5],\n",
       "        [  4.5,   5.5]],\n",
       "\n",
       "       [[  6.5,   7.5],\n",
       "        [  8.5,   9.5],\n",
       "        [ 10.5,  11.5]]])"
      ]
     },
     "execution_count": 813,
     "metadata": {},
     "output_type": "execute_result"
    }
   ],
   "source": [
    "(vec_kron_sum([m for m in means])).reshape(ds)"
   ]
  },
  {
   "cell_type": "code",
   "execution_count": 814,
   "metadata": {},
   "outputs": [
    {
     "data": {
      "text/plain": [
       "(array([-2.,  0.,  2.]),\n",
       " array([-2.00000000e+00,  5.32907052e-15,  2.00000000e+00]),\n",
       " array([1., 0., 1.]))"
      ]
     },
     "execution_count": 814,
     "metadata": {},
     "output_type": "execute_result"
    }
   ],
   "source": [
    "_mean = data.mean(axis=tuple(x for x in range(L) if x != 1)) - full_mean\n",
    "_mean - _mean.mean(), means[1], (_mean - _mean.mean()) / means[1]"
   ]
  },
  {
   "cell_type": "code",
   "execution_count": 815,
   "metadata": {},
   "outputs": [
    {
     "data": {
      "text/plain": [
       "(array([-9., -3.,  3.,  9.]),\n",
       " array([-9., -3.,  3.,  9.]),\n",
       " array([1., 1., 1., 1.]))"
      ]
     },
     "execution_count": 815,
     "metadata": {},
     "output_type": "execute_result"
    }
   ],
   "source": [
    "_mean = data.mean(axis=tuple(x for x in range(L) if x != 0)) - full_mean\n",
    "_mean - _mean.mean(), means[0], (_mean - _mean.mean()) / means[0]"
   ]
  },
  {
   "cell_type": "markdown",
   "metadata": {},
   "source": [
    "Todo: these ratios (for KS-decomp independent data) always seem to depend only on the axis sizes!  They do not depend on the variance.\n",
    "\n",
    "Note that for KS-decomposable data, the estimated mean should always be the data itself, since it is possible to set the difference from the mean to be zero!\n",
    "\n",
    "Hence I have likely got the math wrong somewhere, but it's close..."
   ]
  },
  {
   "cell_type": "markdown",
   "metadata": {},
   "source": [
    "Removing d_slashes from the calculation of sum_slashes makes the equation work (well, ratio is -1, i.e. there is another problem)"
   ]
  },
  {
   "cell_type": "code",
   "execution_count": 816,
   "metadata": {},
   "outputs": [
    {
     "data": {
      "text/plain": [
       "(4.275938550164428e-26, 0.0)"
      ]
     },
     "execution_count": 816,
     "metadata": {},
     "output_type": "execute_result"
    }
   ],
   "source": [
    "left = data.reshape(-1) - vec_kron_sum(means) - full_mean\n",
    "center = kron_sum(Psis)\n",
    "left_init = data.reshape(-1) - vec_kron_sum(means_init) - full_mean_init\n",
    "left @ center @ left.T, left_init @ center @ left_init.T"
   ]
  },
  {
   "cell_type": "code",
   "execution_count": 817,
   "metadata": {},
   "outputs": [
    {
     "data": {
      "text/plain": [
       "(-9241.551295646817, -9241.551295646817)"
      ]
     },
     "execution_count": 817,
     "metadata": {},
     "output_type": "execute_result"
    }
   ],
   "source": [
    "term1 = (1/2) * vec_kron_sum(means) @ center @ vec_kron_sum(means).T\n",
    "term2 = (full_mean - data.reshape(-1)) @ kron_sum(Psis) @ vec_kron_sum(means).T\n",
    "term1_init = (1/2) * vec_kron_sum(means_init) @ center @ vec_kron_sum(means_init).T\n",
    "term2_init = (full_mean_init - data.reshape(-1)) @ kron_sum(Psis) @ vec_kron_sum(means_init).T\n",
    "term1 + term2, term1_init + term2_init"
   ]
  },
  {
   "cell_type": "code",
   "execution_count": 818,
   "metadata": {},
   "outputs": [],
   "source": [
    "X = np.kron(np.eye(ds[0]), np.ones(d_slashes[0]).reshape(-1, 1))"
   ]
  },
  {
   "cell_type": "code",
   "execution_count": 819,
   "metadata": {},
   "outputs": [
    {
     "ename": "ValueError",
     "evalue": "operands could not be broadcast together with shapes (12,) (24,) ",
     "output_type": "error",
     "traceback": [
      "\u001b[0;31m---------------------------------------------------------------------------\u001b[0m",
      "\u001b[0;31mValueError\u001b[0m                                Traceback (most recent call last)",
      "Cell \u001b[0;32mIn[819], line 2\u001b[0m\n\u001b[1;32m      1\u001b[0m term1 \u001b[38;5;241m=\u001b[39m (\u001b[38;5;241m1\u001b[39m\u001b[38;5;241m/\u001b[39m\u001b[38;5;241m2\u001b[39m) \u001b[38;5;241m*\u001b[39m means[\u001b[38;5;241m0\u001b[39m]\u001b[38;5;241m.\u001b[39mT \u001b[38;5;241m@\u001b[39m A[\u001b[38;5;241m0\u001b[39m] \u001b[38;5;241m@\u001b[39m means[\u001b[38;5;241m0\u001b[39m]\n\u001b[0;32m----> 2\u001b[0m b_ \u001b[38;5;241m=\u001b[39m (\u001b[43mfull_mean\u001b[49m\u001b[43m \u001b[49m\u001b[38;5;241;43m+\u001b[39;49m\u001b[43m \u001b[49m\u001b[43mvec_kron_sum\u001b[49m\u001b[43m(\u001b[49m\u001b[43m[\u001b[49m\u001b[43mnp\u001b[49m\u001b[38;5;241;43m.\u001b[39;49m\u001b[43mones\u001b[49m\u001b[43m(\u001b[49m\u001b[43mds\u001b[49m\u001b[43m[\u001b[49m\u001b[38;5;241;43m0\u001b[39;49m\u001b[43m]\u001b[49m\u001b[43m)\u001b[49m\u001b[43m,\u001b[49m\u001b[43m \u001b[49m\u001b[43mmeans\u001b[49m\u001b[43m[\u001b[49m\u001b[38;5;241;43m1\u001b[39;49m\u001b[43m]\u001b[49m\u001b[43m]\u001b[49m\u001b[43m)\u001b[49m\u001b[43m \u001b[49m\u001b[38;5;241;43m-\u001b[39;49m\u001b[43m \u001b[49m\u001b[43mdata\u001b[49m\u001b[38;5;241;43m.\u001b[39;49m\u001b[43mreshape\u001b[49m\u001b[43m(\u001b[49m\u001b[38;5;241;43m-\u001b[39;49m\u001b[38;5;241;43m1\u001b[39;49m\u001b[43m)\u001b[49m) \u001b[38;5;241m@\u001b[39m kron_sum(Psis) \u001b[38;5;241m@\u001b[39m X\n\u001b[1;32m      3\u001b[0m term1_init \u001b[38;5;241m=\u001b[39m (\u001b[38;5;241m1\u001b[39m\u001b[38;5;241m/\u001b[39m\u001b[38;5;241m2\u001b[39m) \u001b[38;5;241m*\u001b[39m means_init[\u001b[38;5;241m0\u001b[39m]\u001b[38;5;241m.\u001b[39mT \u001b[38;5;241m@\u001b[39m A[\u001b[38;5;241m0\u001b[39m] \u001b[38;5;241m@\u001b[39m means_init[\u001b[38;5;241m0\u001b[39m]\n\u001b[1;32m      4\u001b[0m b_init \u001b[38;5;241m=\u001b[39m (full_mean_init \u001b[38;5;241m+\u001b[39m vec_kron_sum([np\u001b[38;5;241m.\u001b[39mones(ds[\u001b[38;5;241m0\u001b[39m]), means_init[\u001b[38;5;241m1\u001b[39m]]) \u001b[38;5;241m-\u001b[39m data\u001b[38;5;241m.\u001b[39mreshape(\u001b[38;5;241m-\u001b[39m\u001b[38;5;241m1\u001b[39m)) \u001b[38;5;241m@\u001b[39m kron_sum(Psis) \u001b[38;5;241m@\u001b[39m X\n",
      "\u001b[0;31mValueError\u001b[0m: operands could not be broadcast together with shapes (12,) (24,) "
     ]
    }
   ],
   "source": [
    "term1 = (1/2) * means[0].T @ A[0] @ means[0]\n",
    "b_ = (full_mean + vec_kron_sum([np.ones(ds[0]), means[1]]) - data.reshape(-1)) @ kron_sum(Psis) @ X\n",
    "term1_init = (1/2) * means_init[0].T @ A[0] @ means_init[0]\n",
    "b_init = (full_mean_init + vec_kron_sum([np.ones(ds[0]), means_init[1]]) - data.reshape(-1)) @ kron_sum(Psis) @ X\n",
    "term1 + b_ @ means[0], term1_init + b_init @ means_init[0], b_, b_init"
   ]
  },
  {
   "cell_type": "code",
   "execution_count": null,
   "metadata": {},
   "outputs": [
    {
     "data": {
      "text/plain": [
       "(array([ -4.36903294,  -3.36042458, -16.7221565 ]),\n",
       " array([ -3.32813157,  -2.31952321, -15.68125513]),\n",
       " array([ -3.32813157,  -2.31952321, -15.68125513]),\n",
       " array([ -3.32813157,  -2.31952321, -15.68125513]))"
      ]
     },
     "execution_count": 787,
     "metadata": {},
     "output_type": "execute_result"
    }
   ],
   "source": [
    "b2 = d_slashes[0] * full_mean * Psis[0].sum(axis=0) + full_mean * Psis[1].sum() - datatrans(0, data, Psis)\n",
    "b3 = (full_mean + np.kron(np.ones(ds[0]), means[1]) - data.reshape(-1)) @ kron_sum(Psis) @ X\n",
    "b4 = (\n",
    "    (full_mean + np.kron(np.ones(ds[0]), means[1]) - data.reshape(-1))\n",
    "    @ (np.kron(Psis[0], np.ones(ds[1]).reshape(1, -1)) + np.kron(np.eye(ds[0]), Psis[1].sum(axis=1))).T\n",
    ")\n",
    "b5 = (\n",
    "    d_slashes[0] * full_mean * Psis[0].sum(axis=0)\n",
    "    + d_slashes[1] / ds[0] * full_mean * Psis[1].sum()\n",
    "    - data.reshape(-1) @ kron_sum(Psis) @ X\n",
    "    + Psis[0].sum(axis=0) * vec_kron_sum(means[1:]).sum() # 0\n",
    "    + Psis[1].sum(axis=0) @ means[1] # 0\n",
    ")\n",
    "b2, b3, b4, b5"
   ]
  },
  {
   "cell_type": "code",
   "execution_count": null,
   "metadata": {},
   "outputs": [
    {
     "data": {
      "text/plain": [
       "(array([22.64735165, 12.47145146, 20.95868305]),\n",
       " array([22.64735165, 12.47145146, 20.95868305]),\n",
       " array([-259.7548322 , -147.90974672, -366.39938172]),\n",
       " array([-259.7548322 , -147.90974672, -366.39938172]),\n",
       " array([-259.7548322 , -147.90974672, -366.39938172]),\n",
       " array([255.38579925, 144.54932214, 349.67722523]),\n",
       " array([255.38579925, 144.54932214, 349.67722523]),\n",
       " array([1.04090137, 1.04090137, 1.04090137]),\n",
       " array([1.04090137, 1.04090137, 1.04090137]))"
      ]
     },
     "execution_count": 788,
     "metadata": {},
     "output_type": "execute_result"
    }
   ],
   "source": [
    "holy = (\n",
    "    (full_mean + vec_kron_sum([np.ones(ds[0]), means[1]]) - data.reshape(-1))\n",
    "    @ (np.kron(Psis[0], np.ones(ds[1]).reshape(1, -1)) + np.kron(np.eye(ds[0]), Psis[1].sum(axis=1))).T\n",
    ")\n",
    "carp = (\n",
    "    (full_mean * np.ones(ds[0] * ds[1]))\n",
    "    @ (np.kron(Psis[0], np.ones(ds[1]).reshape(1, -1)) + np.kron(np.eye(ds[0]), Psis[1].sum(axis=1))).T\n",
    "    + (vec_kron_sum([np.ones(ds[0]), means[1]]))\n",
    "    @ (np.kron(Psis[0], np.ones(ds[1]).reshape(1, -1)) + np.kron(np.eye(ds[0]), Psis[1].sum(axis=1))).T\n",
    "    - (data.reshape(-1))\n",
    "    @ (np.kron(Psis[0], np.ones(ds[1]).reshape(1, -1)) + np.kron(np.eye(ds[0]), Psis[1].sum(axis=1))).T\n",
    ")\n",
    "gawd = (\n",
    "    (full_mean * np.ones(ds[0] * ds[1]))\n",
    "    @ (np.kron(Psis[0], np.ones(ds[1]).reshape(1, -1)) + np.kron(np.eye(ds[0]), Psis[1].sum(axis=1))).T\n",
    ")\n",
    "dammit = (\n",
    "    (full_mean * np.ones(ds[0] * ds[1]))\n",
    "    @ (np.kron(Psis[0], np.ones(ds[1]).reshape(1, -1))).T\n",
    "    + (full_mean * np.ones(ds[0] * ds[1]))\n",
    "    @ (np.kron(np.eye(ds[0]), Psis[1].sum(axis=1))).T\n",
    ")\n",
    "fawk = (\n",
    "    d_slashes[0] * full_mean * Psis[0].sum(axis=0)\n",
    "    + d_slashes[1] / ds[0] * full_mean * Psis[1].sum()\n",
    ")\n",
    "aaaah = (\n",
    "    - (data.reshape(-1))\n",
    "    @ (np.kron(Psis[0], np.ones(ds[1]).reshape(1, -1)) + np.kron(np.eye(ds[0]), Psis[1].sum(axis=1))).T\n",
    ")\n",
    "pain = (\n",
    "    - data.reshape(-1) @ kron_sum(Psis) @ X\n",
    ")\n",
    "punishment = (\n",
    "    (np.kron(np.ones(ds[0]), means[1]))\n",
    "    @ (np.kron(Psis[0], np.ones(ds[1]).reshape(1, -1)) + np.kron(np.eye(ds[0]), Psis[1].sum(axis=1))).T\n",
    ")\n",
    "trick = (\n",
    "    + Psis[0].sum(axis=0) * vec_kron_sum(means[1:]).sum() # 0\n",
    "    + Psis[1].sum(axis=0) @ means[1] # 0\n",
    ")\n",
    "holy, carp, gawd, dammit, fawk, aaaah, pain, punishment, trick"
   ]
  },
  {
   "cell_type": "code",
   "execution_count": null,
   "metadata": {},
   "outputs": [
    {
     "ename": "SyntaxError",
     "evalue": "invalid syntax (2388457648.py, line 13)",
     "output_type": "error",
     "traceback": [
      "\u001b[0;36m  Cell \u001b[0;32mIn[789], line 13\u001b[0;36m\u001b[0m\n\u001b[0;31m    eternal, damnation\u001b[0m\n\u001b[0m    ^\u001b[0m\n\u001b[0;31mSyntaxError\u001b[0m\u001b[0;31m:\u001b[0m invalid syntax\n"
     ]
    }
   ],
   "source": [
    "eternal = (\n",
    "    (vec_kron_sum([np.ones(ds[0]), means[1]]))\n",
    "    @ (np.kron(Psis[0], np.ones(ds[1]).reshape(1, -1)) + np.kron(np.eye(ds[0]), Psis[1].sum(axis=1))).T\n",
    ")\n",
    "damnation = (\n",
    "    + Psis[0].sum(axis=0) * vec_kron_sum(means[1:]).sum() # 0\n",
    "    + Psis[1].sum(axis=0) @ means[1] # 0\n",
    ")\n",
    "please = (\n",
    "    (vec_kron_sum([np.ones(ds[0]), means[1]]))\n",
    "    @ (np.kron(Psis[0], np.ones(ds[1]).reshape(1, -1))\n",
    ")\n",
    "eternal, damnation"
   ]
  }
 ],
 "metadata": {
  "kernelspec": {
   "display_name": "Python 3",
   "language": "python",
   "name": "python3"
  },
  "language_info": {
   "codemirror_mode": {
    "name": "ipython",
    "version": 3
   },
   "file_extension": ".py",
   "mimetype": "text/x-python",
   "name": "python",
   "nbconvert_exporter": "python",
   "pygments_lexer": "ipython3",
   "version": "3.9.15"
  }
 },
 "nbformat": 4,
 "nbformat_minor": 2
}
