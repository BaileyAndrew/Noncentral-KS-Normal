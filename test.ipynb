{
 "cells": [
  {
   "cell_type": "code",
   "execution_count": 1,
   "metadata": {},
   "outputs": [],
   "source": [
    "import numpy as np\n",
    "import scipy.stats as stats"
   ]
  },
  {
   "cell_type": "code",
   "execution_count": 2,
   "metadata": {},
   "outputs": [],
   "source": [
    "def vec_kron_sum(Xs: list) -> np.array:\n",
    "    \"\"\"Compute the Kronecker vector-sum\"\"\"\n",
    "    if len(Xs) == 1:\n",
    "        return Xs[0]\n",
    "    elif len(Xs) == 2:\n",
    "        return np.kron(Xs[0], np.ones(Xs[1].shape[0])) + np.kron(np.ones(Xs[0].shape[0]), Xs[1])\n",
    "    else:\n",
    "        d_slash0 = np.prod([X.shape[0] for X in Xs[1:]])\n",
    "        return (\n",
    "            np.kron(Xs[0], np.ones(d_slash0))\n",
    "            + np.kron(np.ones(Xs[0].shape[0]), vec_kron_sum(Xs[1:]))\n",
    "        )\n",
    "    \n",
    "def kron_sum(Xs: list) -> np.array:\n",
    "    \"\"\"Compute the Kronecker sum\"\"\"\n",
    "    if len(Xs) == 1:\n",
    "        return Xs[0]\n",
    "    elif len(Xs) == 2:\n",
    "        return np.kron(Xs[0], np.eye(Xs[1].shape[0])) + np.kron(np.eye(Xs[0].shape[0]), Xs[1])\n",
    "    else:\n",
    "        d_slash0 = np.prod([X.shape[0] for X in Xs[1:]])\n",
    "        return (\n",
    "            np.kron(Xs[0], np.eye(d_slash0))\n",
    "            + np.kron(np.eye(Xs[0].shape[0]), kron_sum(Xs[1:]))\n",
    "        )"
   ]
  },
  {
   "cell_type": "code",
   "execution_count": 3,
   "metadata": {},
   "outputs": [
    {
     "data": {
      "text/plain": [
       "array([[[-21.5, -20.5],\n",
       "        [-19.5, -18.5],\n",
       "        [-17.5, -16.5]],\n",
       "\n",
       "       [[-15.5, -14.5],\n",
       "        [-13.5, -12.5],\n",
       "        [-11.5, -10.5]],\n",
       "\n",
       "       [[ -9.5,  -8.5],\n",
       "        [ -7.5,  -6.5],\n",
       "        [ -5.5,  -4.5]],\n",
       "\n",
       "       [[ -3.5,  -2.5],\n",
       "        [ -1.5,  -0.5],\n",
       "        [  0.5,   1.5]]])"
      ]
     },
     "execution_count": 3,
     "metadata": {},
     "output_type": "execute_result"
    }
   ],
   "source": [
    "# Test dataset\n",
    "ds = [4, 3, 2]\n",
    "data = np.arange(np.prod(ds)).reshape(ds).astype(float)\n",
    "data -= data.mean() + 10\n",
    "#data = np.random.normal(size=ds)\n",
    "#data -= 10\n",
    "#data += 5 * np.arange(ds[-1])\n",
    "\n",
    "# Derived parameters\n",
    "L = len(ds)\n",
    "d_slashes = [np.prod(ds[:ell] + ds[ell + 1:]) for ell in range(L)]\n",
    "\n",
    "# Fixed parameters\n",
    "#Psis = [0 * np.ones((ds[ell], ds[ell])) / ds[ell] + np.eye(ds[ell]) for ell in range(L)]\n",
    "Psis = [stats.wishart.rvs(df=ds[ell], scale=np.ones((ds[ell], ds[ell])) / 1.1 + np.eye(ds[ell])) for ell in range(L)]\n",
    "\n",
    "# Parameters to estimate, give it good initial guesses\n",
    "means_init = [(data - data.mean()).mean(axis=tuple([j for j in range(L) if j != ell])) for ell in range(L)]\n",
    "full_mean_init = data.mean()\n",
    "means = [_.copy() for _ in means_init]\n",
    "full_mean = full_mean_init\n",
    "data"
   ]
  },
  {
   "cell_type": "code",
   "execution_count": 4,
   "metadata": {},
   "outputs": [
    {
     "name": "stdout",
     "output_type": "stream",
     "text": [
      "Start [array([-9., -3.,  3.,  9.]), array([-2.,  0.,  2.]), array([-0.5,  0.5])] -10.0\n",
      "[array([-9., -3.,  3.,  9.]), array([-2.00000000e+00,  1.33226763e-15,  2.00000000e+00]), array([-0.5,  0.5])] -10.000000000000002\n",
      "[array([-9., -3.,  3.,  9.]), array([-2.,  0.,  2.]), array([-0.5,  0.5])] -10.000000000000004\n",
      "[array([-9., -3.,  3.,  9.]), array([-2.0000000e+00,  4.4408921e-16,  2.0000000e+00]), array([-0.5,  0.5])] -10.000000000000004\n",
      "[array([-9., -3.,  3.,  9.]), array([-2.0000000e+00,  4.4408921e-16,  2.0000000e+00]), array([-0.5,  0.5])] -10.000000000000002\n",
      "[array([-9., -3.,  3.,  9.]), array([-2.,  0.,  2.]), array([-0.5,  0.5])] -10.000000000000004\n",
      "[array([-9., -3.,  3.,  9.]), array([-2.0000000e+00,  4.4408921e-16,  2.0000000e+00]), array([-0.5,  0.5])] -10.000000000000004\n",
      "[array([-9., -3.,  3.,  9.]), array([-2.0000000e+00,  4.4408921e-16,  2.0000000e+00]), array([-0.5,  0.5])] -10.000000000000002\n",
      "[array([-9., -3.,  3.,  9.]), array([-2.,  0.,  2.]), array([-0.5,  0.5])] -10.000000000000004\n",
      "[array([-9., -3.,  3.,  9.]), array([-2.0000000e+00,  4.4408921e-16,  2.0000000e+00]), array([-0.5,  0.5])] -10.000000000000004\n",
      "[array([-9., -3.,  3.,  9.]), array([-2.0000000e+00,  4.4408921e-16,  2.0000000e+00]), array([-0.5,  0.5])] -10.000000000000002\n",
      "[array([-9., -3.,  3.,  9.]), array([-2.,  0.,  2.]), array([-0.5,  0.5])] -10.000000000000004\n",
      "[array([-9., -3.,  3.,  9.]), array([-2.0000000e+00,  4.4408921e-16,  2.0000000e+00]), array([-0.5,  0.5])] -10.000000000000004\n",
      "[array([-9., -3.,  3.,  9.]), array([-2.0000000e+00,  4.4408921e-16,  2.0000000e+00]), array([-0.5,  0.5])] -10.000000000000002\n",
      "[array([-9., -3.,  3.,  9.]), array([-2.,  0.,  2.]), array([-0.5,  0.5])] -10.000000000000004\n",
      "[array([-9., -3.,  3.,  9.]), array([-2.0000000e+00,  4.4408921e-16,  2.0000000e+00]), array([-0.5,  0.5])] -10.000000000000004\n"
     ]
    }
   ],
   "source": [
    "# NEW VERSION BASED ON QUADRATIC PROGRAMMING\n",
    "\n",
    "# Derived parameters for our mean problem\n",
    "lsum_Psis = [Psis[ell].sum(axis=1) for ell in range(L)]\n",
    "sum_Psis = [lsum_Psis[ell].sum() for ell in range(L)]\n",
    "sum_Psis_slashes = [sum([d_slashes[ell] / ds[ell_prime] * sum_Psis[ell] for ell in range(L) if ell != ell_prime]) for ell_prime in range(L)]\n",
    "\n",
    "# The matrix that needs to be inverted\n",
    "A = [(d_slashes[ell] * Psis[ell] + sum_Psis_slashes[ell] * np.eye(ds[ell])) for ell in range(L)]\n",
    "A_inv = [np.linalg.pinv(A[ell]) for ell in range(L)]\n",
    "\n",
    "# The data contribution\n",
    "def datatrans(ell, data, Psis):\n",
    "    # Sum along all axes but ell\n",
    "    base = data.sum(axis=tuple([i for i in range(L) if i != ell]))\n",
    "    base = Psis[ell] @ base\n",
    "\n",
    "    for ell_prime in range(len(Psis)):\n",
    "        if ell_prime == ell:\n",
    "            continue\n",
    "        # Sum along all axes but ell and ell_prime\n",
    "        to_add = data.sum(axis=tuple([i for i in range(L) if i != ell and i != ell_prime]))\n",
    "        \n",
    "        # Multiply by Psi_{ell_prime} and then sum along ell_prime\n",
    "        if ell_prime < ell:\n",
    "            to_add = (lsum_Psis[ell_prime] @ to_add)\n",
    "        else:\n",
    "            to_add = (lsum_Psis[ell_prime] @ to_add.T)\n",
    "\n",
    "        base += to_add\n",
    "\n",
    "    return base\n",
    "\n",
    "b_bases = [\n",
    "    datatrans(ell, data, Psis)\n",
    "    for ell in range(L)\n",
    "]\n",
    "max_cycles = 15\n",
    "print(\"Start\", means, full_mean)\n",
    "for cycle in range(max_cycles):\n",
    "    for ell in range(L):\n",
    "        # Preliminary calculations\n",
    "        #mean_sum = vec_kron_sum([means[ell_prime] for ell_prime in range(L) if ell != ell_prime]).sum() # Should always be zero\n",
    "        mean_lsum = (\n",
    "            vec_kron_sum([means[ell_prime] for ell_prime in range(L) if ell != ell_prime])\n",
    "            @ vec_kron_sum([lsum_Psis[ell_prime] for ell_prime in range(L) if ell != ell_prime])\n",
    "        )\n",
    "\n",
    "        b = (\n",
    "            d_slashes[ell] * full_mean * lsum_Psis[ell]\n",
    "            + full_mean * sum_Psis[ell]\n",
    "            #+ lsum_Psis[ell] * mean_sum # mean_sum should always be zero zero\n",
    "            + mean_lsum\n",
    "            - b_bases[ell]\n",
    "        )\n",
    "        A_inv_b = A_inv[ell] @ b\n",
    "        means[ell] = (A_inv_b.sum() / A_inv[ell].sum()) * A_inv[ell].sum(axis=0) - A_inv_b\n",
    "        \n",
    "    full_mean = (data.reshape(-1) - vec_kron_sum(means)) @ vec_kron_sum(lsum_Psis) / sum(d_slashes[ell] * sum_Psis[ell] for ell in range(L))\n",
    "    print(means, full_mean)"
   ]
  },
  {
   "cell_type": "code",
   "execution_count": 5,
   "metadata": {},
   "outputs": [
    {
     "data": {
      "text/plain": [
       "(-10.0, -10.000000000000004, -1.4802973661668753e-16)"
      ]
     },
     "execution_count": 5,
     "metadata": {},
     "output_type": "execute_result"
    }
   ],
   "source": [
    "data.mean(), full_mean, vec_kron_sum([m for m in means]).mean()"
   ]
  },
  {
   "cell_type": "code",
   "execution_count": 6,
   "metadata": {},
   "outputs": [
    {
     "data": {
      "text/plain": [
       "0.9999999999999997"
      ]
     },
     "execution_count": 6,
     "metadata": {},
     "output_type": "execute_result"
    }
   ],
   "source": [
    "data.mean() / full_mean"
   ]
  },
  {
   "cell_type": "code",
   "execution_count": 7,
   "metadata": {},
   "outputs": [
    {
     "data": {
      "text/plain": [
       "array([[[-1.42108547e-14, -1.06581410e-14],\n",
       "        [-1.42108547e-14, -1.06581410e-14],\n",
       "        [-1.24344979e-14, -8.88178420e-15]],\n",
       "\n",
       "       [[ 1.06581410e-14,  1.42108547e-14],\n",
       "        [ 1.02140518e-14,  1.37667655e-14],\n",
       "        [ 1.24344979e-14,  1.59872116e-14]],\n",
       "\n",
       "       [[-3.55271368e-15,  0.00000000e+00],\n",
       "        [-3.99680289e-15, -4.44089210e-16],\n",
       "        [-1.77635684e-15,  1.77635684e-15]],\n",
       "\n",
       "       [[ 1.24344979e-14,  1.59872116e-14],\n",
       "        [ 1.24344979e-14,  1.59872116e-14],\n",
       "        [ 1.42108547e-14,  1.77635684e-14]]])"
      ]
     },
     "execution_count": 7,
     "metadata": {},
     "output_type": "execute_result"
    }
   ],
   "source": [
    "data - full_mean - vec_kron_sum([m for m in means]).reshape(ds)"
   ]
  },
  {
   "cell_type": "code",
   "execution_count": 8,
   "metadata": {},
   "outputs": [
    {
     "data": {
      "text/plain": [
       "(array([-2.,  0.,  2.]),\n",
       " array([-2.0000000e+00,  4.4408921e-16,  2.0000000e+00]),\n",
       " array([1., 0., 1.]))"
      ]
     },
     "execution_count": 8,
     "metadata": {},
     "output_type": "execute_result"
    }
   ],
   "source": [
    "_mean = data.mean(axis=tuple(x for x in range(L) if x != 1)) - full_mean\n",
    "_mean - _mean.mean(), means[1], (_mean - _mean.mean()) / means[1]"
   ]
  },
  {
   "cell_type": "code",
   "execution_count": 9,
   "metadata": {},
   "outputs": [
    {
     "data": {
      "text/plain": [
       "(array([-9., -3.,  3.,  9.]),\n",
       " array([-9., -3.,  3.,  9.]),\n",
       " array([1., 1., 1., 1.]))"
      ]
     },
     "execution_count": 9,
     "metadata": {},
     "output_type": "execute_result"
    }
   ],
   "source": [
    "_mean = data.mean(axis=tuple(x for x in range(L) if x != 0)) - full_mean\n",
    "_mean - _mean.mean(), means[0], (_mean - _mean.mean()) / means[0]"
   ]
  }
 ],
 "metadata": {
  "kernelspec": {
   "display_name": "Python 3",
   "language": "python",
   "name": "python3"
  },
  "language_info": {
   "codemirror_mode": {
    "name": "ipython",
    "version": 3
   },
   "file_extension": ".py",
   "mimetype": "text/x-python",
   "name": "python",
   "nbconvert_exporter": "python",
   "pygments_lexer": "ipython3",
   "version": "3.9.15"
  }
 },
 "nbformat": 4,
 "nbformat_minor": 2
}
